{
  "nbformat": 4,
  "nbformat_minor": 0,
  "metadata": {
    "colab": {
      "name": "Lambda3-Desafio.ipynb",
      "provenance": [],
      "collapsed_sections": [],
      "toc_visible": true,
      "mount_file_id": "10fLH_Nnpowo1k6PQkCvRmDFGAFtoEmmp",
      "authorship_tag": "ABX9TyP1fI0Fc0FnZ9B9dvqlN16L",
      "include_colab_link": true
    },
    "kernelspec": {
      "name": "python3",
      "display_name": "Python 3"
    },
    "language_info": {
      "name": "python"
    }
  },
  "cells": [
    {
      "cell_type": "markdown",
      "metadata": {
        "id": "view-in-github",
        "colab_type": "text"
      },
      "source": [
        "<a href=\"https://colab.research.google.com/github/paolofullone/DS_Paolo/blob/main/Lambda3_Desafio.ipynb\" target=\"_parent\"><img src=\"https://colab.research.google.com/assets/colab-badge.svg\" alt=\"Open In Colab\"/></a>"
      ]
    },
    {
      "cell_type": "markdown",
      "metadata": {
        "id": "kzlKMflaySqH"
      },
      "source": [
        "# Desafio - Vaga para Cientista de Dados"
      ]
    },
    {
      "cell_type": "markdown",
      "metadata": {
        "id": "fvxN7dtYySqU"
      },
      "source": [
        "**Empresa**: Lambda3 (https://www.lambda3.com.br/)\n",
        "\n",
        "**Complexidade**: Intermediário\n",
        "\n",
        "**Tarefa avaliada**: Machine Learning - Classificação\n",
        "\n",
        "**Requisitos**: \n",
        "- Ferramentas Essenciais.\n",
        "- Conceitos e Aplicações.\n",
        "- Dominando o Python\n",
        "- Python para Análise de Dados.\n",
        "- Machine Learning\n",
        "    - Algoritmos de Classificação\n",
        "    - Técnicas de Validação\n",
        "    - Tunning de Modelos\n",
        "\n",
        "**Objetivo**: Este desafio tem como objetivo avaliar as habilidades do candidato em relação a uma tarefa simples de classificação, conforme descrito pela empresa. \n",
        "Todas as etapas do desafio podem ser resolvidos com os conhecimentos adquiridos no capítulo de Machine Learning.\n",
        "\n",
        "**Recursos**: Para este desafio é proposto o dataset Iris (https://archive.ics.uci.edu/ml/datasets/Iris)"
      ]
    },
    {
      "cell_type": "markdown",
      "metadata": {
        "id": "lenJyXDLySqW"
      },
      "source": [
        "**Importando as bibliotecas necessárias**"
      ]
    },
    {
      "cell_type": "code",
      "metadata": {
        "id": "ndS1Im2SySqX"
      },
      "source": [
        "import pandas as pd\n",
        "from sklearn.neighbors import KNeighborsClassifier\n",
        "from sklearn.preprocessing import LabelEncoder\n",
        "from sklearn.metrics import classification_report\n",
        "from sklearn.model_selection import cross_val_predict"
      ],
      "execution_count": null,
      "outputs": []
    },
    {
      "cell_type": "markdown",
      "metadata": {
        "id": "yA_Kw5NzySqY"
      },
      "source": [
        "<p><span style=\"color:red\">O dataset deve ser o Iris.</span></p>"
      ]
    },
    {
      "cell_type": "markdown",
      "metadata": {
        "id": "InIIGK3KySqY"
      },
      "source": [
        "**Importando o dataset Iris.**"
      ]
    },
    {
      "cell_type": "code",
      "metadata": {
        "id": "xKL1YyGjySqZ"
      },
      "source": [
        "df = pd.read_csv(\"/content/drive/MyDrive/CienciaDados/ModExtra1/Lambda3/iris.csv\")"
      ],
      "execution_count": null,
      "outputs": []
    },
    {
      "cell_type": "markdown",
      "metadata": {
        "id": "LSpbRktPySqZ"
      },
      "source": [
        "**Verificando os dados e atributos da base de dados.**"
      ]
    },
    {
      "cell_type": "code",
      "metadata": {
        "id": "YeObSAYYySqZ",
        "colab": {
          "base_uri": "https://localhost:8080/",
          "height": 202
        },
        "outputId": "98c799dd-c5ec-4802-be9f-055e5b006fcd"
      },
      "source": [
        "df.head()"
      ],
      "execution_count": null,
      "outputs": [
        {
          "output_type": "execute_result",
          "data": {
            "text/html": [
              "<div>\n",
              "<style scoped>\n",
              "    .dataframe tbody tr th:only-of-type {\n",
              "        vertical-align: middle;\n",
              "    }\n",
              "\n",
              "    .dataframe tbody tr th {\n",
              "        vertical-align: top;\n",
              "    }\n",
              "\n",
              "    .dataframe thead th {\n",
              "        text-align: right;\n",
              "    }\n",
              "</style>\n",
              "<table border=\"1\" class=\"dataframe\">\n",
              "  <thead>\n",
              "    <tr style=\"text-align: right;\">\n",
              "      <th></th>\n",
              "      <th>sepallength</th>\n",
              "      <th>sepalwidth</th>\n",
              "      <th>petallength</th>\n",
              "      <th>petalwidth</th>\n",
              "      <th>class</th>\n",
              "    </tr>\n",
              "  </thead>\n",
              "  <tbody>\n",
              "    <tr>\n",
              "      <th>0</th>\n",
              "      <td>5.1</td>\n",
              "      <td>3.5</td>\n",
              "      <td>1.4</td>\n",
              "      <td>0.2</td>\n",
              "      <td>Iris-setosa</td>\n",
              "    </tr>\n",
              "    <tr>\n",
              "      <th>1</th>\n",
              "      <td>4.9</td>\n",
              "      <td>3.0</td>\n",
              "      <td>1.4</td>\n",
              "      <td>0.2</td>\n",
              "      <td>Iris-setosa</td>\n",
              "    </tr>\n",
              "    <tr>\n",
              "      <th>2</th>\n",
              "      <td>4.7</td>\n",
              "      <td>3.2</td>\n",
              "      <td>1.3</td>\n",
              "      <td>0.2</td>\n",
              "      <td>Iris-setosa</td>\n",
              "    </tr>\n",
              "    <tr>\n",
              "      <th>3</th>\n",
              "      <td>4.6</td>\n",
              "      <td>3.1</td>\n",
              "      <td>1.5</td>\n",
              "      <td>0.2</td>\n",
              "      <td>Iris-setosa</td>\n",
              "    </tr>\n",
              "    <tr>\n",
              "      <th>4</th>\n",
              "      <td>5.0</td>\n",
              "      <td>3.6</td>\n",
              "      <td>1.4</td>\n",
              "      <td>0.2</td>\n",
              "      <td>Iris-setosa</td>\n",
              "    </tr>\n",
              "  </tbody>\n",
              "</table>\n",
              "</div>"
            ],
            "text/plain": [
              "   sepallength  sepalwidth  petallength  petalwidth        class\n",
              "0          5.1         3.5          1.4         0.2  Iris-setosa\n",
              "1          4.9         3.0          1.4         0.2  Iris-setosa\n",
              "2          4.7         3.2          1.3         0.2  Iris-setosa\n",
              "3          4.6         3.1          1.5         0.2  Iris-setosa\n",
              "4          5.0         3.6          1.4         0.2  Iris-setosa"
            ]
          },
          "metadata": {
            "tags": []
          },
          "execution_count": 3
        }
      ]
    },
    {
      "cell_type": "code",
      "metadata": {
        "id": "Q4az1SAXySqb",
        "colab": {
          "base_uri": "https://localhost:8080/"
        },
        "outputId": "c3ac9f45-ffc4-4773-8d6d-ceb813159c2e"
      },
      "source": [
        "df.info()"
      ],
      "execution_count": null,
      "outputs": [
        {
          "output_type": "stream",
          "text": [
            "<class 'pandas.core.frame.DataFrame'>\n",
            "RangeIndex: 150 entries, 0 to 149\n",
            "Data columns (total 5 columns):\n",
            " #   Column       Non-Null Count  Dtype  \n",
            "---  ------       --------------  -----  \n",
            " 0   sepallength  150 non-null    float64\n",
            " 1   sepalwidth   150 non-null    float64\n",
            " 2   petallength  150 non-null    float64\n",
            " 3   petalwidth   150 non-null    float64\n",
            " 4   class        150 non-null    object \n",
            "dtypes: float64(4), object(1)\n",
            "memory usage: 6.0+ KB\n"
          ],
          "name": "stdout"
        }
      ]
    },
    {
      "cell_type": "markdown",
      "metadata": {
        "id": "sOtyV95xySqc"
      },
      "source": [
        "<p><span style=\"color:red\"> Receber as entradas específicas (escolher as variáveis pertinentes).</span></p>\n",
        "<p><span style=\"color:red\"> Justificar a escolha das variáveis.</span></p>\n"
      ]
    },
    {
      "cell_type": "markdown",
      "metadata": {
        "id": "EOuURIM4ySqc"
      },
      "source": [
        "**Separando separando os atributos que serão utilizados como features e a classe.**"
      ]
    },
    {
      "cell_type": "code",
      "metadata": {
        "id": "b6KVeYfBySqd",
        "colab": {
          "base_uri": "https://localhost:8080/",
          "height": 202
        },
        "outputId": "27408327-18c2-4b0b-b2ca-b9cf608b38de"
      },
      "source": [
        "X = df.drop(\"class\",axis=1)\n",
        "X.head()"
      ],
      "execution_count": null,
      "outputs": [
        {
          "output_type": "execute_result",
          "data": {
            "text/html": [
              "<div>\n",
              "<style scoped>\n",
              "    .dataframe tbody tr th:only-of-type {\n",
              "        vertical-align: middle;\n",
              "    }\n",
              "\n",
              "    .dataframe tbody tr th {\n",
              "        vertical-align: top;\n",
              "    }\n",
              "\n",
              "    .dataframe thead th {\n",
              "        text-align: right;\n",
              "    }\n",
              "</style>\n",
              "<table border=\"1\" class=\"dataframe\">\n",
              "  <thead>\n",
              "    <tr style=\"text-align: right;\">\n",
              "      <th></th>\n",
              "      <th>sepallength</th>\n",
              "      <th>sepalwidth</th>\n",
              "      <th>petallength</th>\n",
              "      <th>petalwidth</th>\n",
              "    </tr>\n",
              "  </thead>\n",
              "  <tbody>\n",
              "    <tr>\n",
              "      <th>0</th>\n",
              "      <td>5.1</td>\n",
              "      <td>3.5</td>\n",
              "      <td>1.4</td>\n",
              "      <td>0.2</td>\n",
              "    </tr>\n",
              "    <tr>\n",
              "      <th>1</th>\n",
              "      <td>4.9</td>\n",
              "      <td>3.0</td>\n",
              "      <td>1.4</td>\n",
              "      <td>0.2</td>\n",
              "    </tr>\n",
              "    <tr>\n",
              "      <th>2</th>\n",
              "      <td>4.7</td>\n",
              "      <td>3.2</td>\n",
              "      <td>1.3</td>\n",
              "      <td>0.2</td>\n",
              "    </tr>\n",
              "    <tr>\n",
              "      <th>3</th>\n",
              "      <td>4.6</td>\n",
              "      <td>3.1</td>\n",
              "      <td>1.5</td>\n",
              "      <td>0.2</td>\n",
              "    </tr>\n",
              "    <tr>\n",
              "      <th>4</th>\n",
              "      <td>5.0</td>\n",
              "      <td>3.6</td>\n",
              "      <td>1.4</td>\n",
              "      <td>0.2</td>\n",
              "    </tr>\n",
              "  </tbody>\n",
              "</table>\n",
              "</div>"
            ],
            "text/plain": [
              "   sepallength  sepalwidth  petallength  petalwidth\n",
              "0          5.1         3.5          1.4         0.2\n",
              "1          4.9         3.0          1.4         0.2\n",
              "2          4.7         3.2          1.3         0.2\n",
              "3          4.6         3.1          1.5         0.2\n",
              "4          5.0         3.6          1.4         0.2"
            ]
          },
          "metadata": {
            "tags": []
          },
          "execution_count": 5
        }
      ]
    },
    {
      "cell_type": "code",
      "metadata": {
        "id": "HmRH1XVcySqd",
        "colab": {
          "base_uri": "https://localhost:8080/"
        },
        "outputId": "4707840c-5a88-48ec-dda9-bd85e32b114c"
      },
      "source": [
        "y = df[\"class\"]\n",
        "y.head()"
      ],
      "execution_count": null,
      "outputs": [
        {
          "output_type": "execute_result",
          "data": {
            "text/plain": [
              "0    Iris-setosa\n",
              "1    Iris-setosa\n",
              "2    Iris-setosa\n",
              "3    Iris-setosa\n",
              "4    Iris-setosa\n",
              "Name: class, dtype: object"
            ]
          },
          "metadata": {
            "tags": []
          },
          "execution_count": 6
        }
      ]
    },
    {
      "cell_type": "markdown",
      "metadata": {
        "id": "ZcKRknD6ySqd"
      },
      "source": [
        "**Transformando o atributo classe para valores numéricos utilizando o LabelEncoder.**"
      ]
    },
    {
      "cell_type": "code",
      "metadata": {
        "id": "IuG5cz2XySqe",
        "colab": {
          "base_uri": "https://localhost:8080/"
        },
        "outputId": "fd2c0e3f-5d80-419c-89d7-547bbbb8332c"
      },
      "source": [
        "label = LabelEncoder()\n",
        "label.fit(y)"
      ],
      "execution_count": null,
      "outputs": [
        {
          "output_type": "execute_result",
          "data": {
            "text/plain": [
              "LabelEncoder()"
            ]
          },
          "metadata": {
            "tags": []
          },
          "execution_count": 7
        }
      ]
    },
    {
      "cell_type": "code",
      "metadata": {
        "id": "2AODGrRWySqe"
      },
      "source": [
        "y = label.transform(y)"
      ],
      "execution_count": null,
      "outputs": []
    },
    {
      "cell_type": "code",
      "metadata": {
        "colab": {
          "base_uri": "https://localhost:8080/"
        },
        "id": "A3Isww80zEv3",
        "outputId": "d04c7fcb-29aa-40e8-b607-c985f35000cd"
      },
      "source": [
        "y"
      ],
      "execution_count": null,
      "outputs": [
        {
          "output_type": "execute_result",
          "data": {
            "text/plain": [
              "array([0, 0, 0, 0, 0, 0, 0, 0, 0, 0, 0, 0, 0, 0, 0, 0, 0, 0, 0, 0, 0, 0,\n",
              "       0, 0, 0, 0, 0, 0, 0, 0, 0, 0, 0, 0, 0, 0, 0, 0, 0, 0, 0, 0, 0, 0,\n",
              "       0, 0, 0, 0, 0, 0, 1, 1, 1, 1, 1, 1, 1, 1, 1, 1, 1, 1, 1, 1, 1, 1,\n",
              "       1, 1, 1, 1, 1, 1, 1, 1, 1, 1, 1, 1, 1, 1, 1, 1, 1, 1, 1, 1, 1, 1,\n",
              "       1, 1, 1, 1, 1, 1, 1, 1, 1, 1, 1, 1, 2, 2, 2, 2, 2, 2, 2, 2, 2, 2,\n",
              "       2, 2, 2, 2, 2, 2, 2, 2, 2, 2, 2, 2, 2, 2, 2, 2, 2, 2, 2, 2, 2, 2,\n",
              "       2, 2, 2, 2, 2, 2, 2, 2, 2, 2, 2, 2, 2, 2, 2, 2, 2, 2])"
            ]
          },
          "metadata": {
            "tags": []
          },
          "execution_count": 11
        }
      ]
    },
    {
      "cell_type": "markdown",
      "metadata": {
        "id": "zMJ_Pt6-ySqe"
      },
      "source": [
        "**Verificando as formas das variáveis.**"
      ]
    },
    {
      "cell_type": "code",
      "metadata": {
        "id": "IiU4OazbySqf",
        "colab": {
          "base_uri": "https://localhost:8080/"
        },
        "outputId": "d3d4cb3b-02fe-4b53-a526-f6b2ae0e78a2"
      },
      "source": [
        "X.shape"
      ],
      "execution_count": null,
      "outputs": [
        {
          "output_type": "execute_result",
          "data": {
            "text/plain": [
              "(150, 4)"
            ]
          },
          "metadata": {
            "tags": []
          },
          "execution_count": 12
        }
      ]
    },
    {
      "cell_type": "code",
      "metadata": {
        "id": "3P2QwmzcySqf",
        "colab": {
          "base_uri": "https://localhost:8080/"
        },
        "outputId": "95291f3a-1b1e-4968-8977-d98e8f66ff79"
      },
      "source": [
        "y.shape"
      ],
      "execution_count": null,
      "outputs": [
        {
          "output_type": "execute_result",
          "data": {
            "text/plain": [
              "(150,)"
            ]
          },
          "metadata": {
            "tags": []
          },
          "execution_count": 13
        }
      ]
    },
    {
      "cell_type": "markdown",
      "metadata": {
        "id": "NpC0MC21ySqg"
      },
      "source": [
        "<p><span style=\"color:red\"> Explicar o porque escolheu o algoritmo de classificação usado (e porque não usou outros).</span></p>"
      ]
    },
    {
      "cell_type": "markdown",
      "metadata": {
        "id": "zqsLlgUJySqg"
      },
      "source": [
        "O algoritmo **K Nearest Neighbors (KNN)** foi escolhido por sua simplicidade, rápida execução e por se tratar de uma base de dados pequena com poucos dados e atributos.\n",
        "<br>\n",
        "Pensando na estratégia de resolver o problema proposto da melhor maneira e da forma mais simples possível, o algoritmo escolhido neste cenário apresentou bons resultados, sem a necessidade de tunning e ajustes."
      ]
    },
    {
      "cell_type": "markdown",
      "metadata": {
        "id": "edvDUnttySqg"
      },
      "source": [
        "**Instanciando o algoritmo KNN.**"
      ]
    },
    {
      "cell_type": "code",
      "metadata": {
        "id": "7_Bo12H9ySqg"
      },
      "source": [
        "clf_knn = KNeighborsClassifier()"
      ],
      "execution_count": null,
      "outputs": []
    },
    {
      "cell_type": "markdown",
      "metadata": {
        "id": "aCsnuq-AySqh"
      },
      "source": [
        "**Treinando o modelo utilizando a validação utilizando Cross Validation e armazenando os resultados.**"
      ]
    },
    {
      "cell_type": "code",
      "metadata": {
        "id": "x2Z1wQe8ySqh"
      },
      "source": [
        "resultados_knn = cross_val_predict(clf_knn, X, y, cv=5)"
      ],
      "execution_count": null,
      "outputs": []
    },
    {
      "cell_type": "markdown",
      "metadata": {
        "id": "AQVcbnRBySqh"
      },
      "source": [
        "**Verificando os resultados através de métricas.**"
      ]
    },
    {
      "cell_type": "code",
      "metadata": {
        "id": "RpkNPBveySqi"
      },
      "source": [
        "# 'Devolvendo' os nomes Iris-Setosa, Iris-Versicolor e Iris-Virginica a uma nova variável nomes_classes para facilitar a visualização da classification report.\n",
        "nomes_classes = label.inverse_transform([0,1,2])"
      ],
      "execution_count": null,
      "outputs": []
    },
    {
      "cell_type": "code",
      "metadata": {
        "id": "-imErPD3ySqj",
        "outputId": "0e3daf60-158c-4330-bf9d-c2115319af37"
      },
      "source": [
        "print(classification_report(y,resultados_knn,target_names=nomes_classes))"
      ],
      "execution_count": null,
      "outputs": [
        {
          "output_type": "stream",
          "text": [
            "                 precision    recall  f1-score   support\n",
            "\n",
            "    Iris-setosa       1.00      1.00      1.00        50\n",
            "Iris-versicolor       0.98      0.94      0.96        50\n",
            " Iris-virginica       0.94      0.98      0.96        50\n",
            "\n",
            "    avg / total       0.97      0.97      0.97       150\n",
            "\n"
          ],
          "name": "stdout"
        }
      ]
    },
    {
      "cell_type": "markdown",
      "metadata": {
        "id": "ViFVcBPzySqk"
      },
      "source": [
        "<p><span style=\"color:red\"> Apresentar a saída classificada</span></p>\n",
        "<p><span style=\"color:red\"> Justificar a performance do modelo de classificação, com base nos métodos de avaliação pertinentes.</span></p>\n"
      ]
    },
    {
      "cell_type": "markdown",
      "metadata": {
        "id": "burg7L3AySql"
      },
      "source": [
        "O Modelo de Classificação apresentou bons resultados utilizando a técnica de Validação Cruzada com um total de 5 folds.\n",
        "<br><br>\n",
        "Foram escolhidas as métricas **precision**, **recall** e **f1-score** para avaliar o modelo por permitir uma análise por classe, já que estamos lidando com um problema que contém 3 classes.\n",
        "    \n",
        "Através do valor da métrica de precisão (precision) podemos ver que o modelo sofreu mais para classificar a classe **Iris-Virginica** obtendo um percentual de **94%** que corresponde ao número de vezes que o modelo classificou corretamente os dados da respectiva classe sobre a quantidade de vezes que a classe foi predita.\n",
        "\n",
        "Analisando a métrica de revocação (recall) o modelo teve mais dificuldade para classificar os dados da classe Iris-versicolor também com o percentual de **94%** que corresponde ao número de vezes que o modelo classificou corretamente diante do volume de dados da respectiva classe no dataset.\n",
        "\n",
        "Por fim, a medida **F1-Score** que corresponde a média harmonica entre as duas medidas anteriormente citadas apresentou um bom resultado com o valor de **97%**."
      ]
    },
    {
      "cell_type": "markdown",
      "metadata": {
        "id": "-_n6_LFWySqm"
      },
      "source": [
        "### Trabalho adicional"
      ]
    },
    {
      "cell_type": "markdown",
      "metadata": {
        "id": "re77m6ytySqm"
      },
      "source": [
        "- Aplicar um método de pré-processamento de dados como o MinMax Scaler e explicar o benefício da técnica.\n",
        "- Utilizar o GridSearchCV para otimizar os parametros do KNN e descobrir qual a melhor configuração.\n",
        "- Treinar e otimizar outros algoritmos como SVM, Arvores de Decisão, Random Forest, Naive Bayes e comparar os resultados.\n",
        "- Explicar o desempenho melhor de cada algoritmo, porque ele supera outros.\n"
      ]
    },
    {
      "cell_type": "markdown",
      "metadata": {
        "id": "X05jlctOySqm"
      },
      "source": [
        "### Dicas importantes "
      ]
    },
    {
      "cell_type": "markdown",
      "metadata": {
        "id": "8ihr_djhySqn"
      },
      "source": [
        "- Tenha coragem.\n",
        "- Seja verdadeiro e honesto.\n",
        "- Priorize sempre a simplicidade.\n",
        "- Exponha o seu ponto de vista sem medo.\n",
        "- Dê o seu máximo!"
      ]
    },
    {
      "cell_type": "markdown",
      "metadata": {
        "id": "dP0BBKbwLg_8"
      },
      "source": [
        "# Tarefas extras propostas:\n"
      ]
    },
    {
      "cell_type": "code",
      "metadata": {
        "id": "4qbNrnGY7pJa"
      },
      "source": [
        "from sklearn.pipeline import Pipeline\n",
        "from sklearn.model_selection import StratifiedKFold\n",
        "from sklearn import model_selection\n",
        "from sklearn.preprocessing import StandardScaler\n",
        "from sklearn.preprocessing import MinMaxScaler\n",
        "from sklearn.linear_model import LogisticRegression\n",
        "from sklearn.tree import DecisionTreeClassifier\n",
        "from sklearn.neighbors import KNeighborsClassifier\n",
        "from sklearn.ensemble import RandomForestClassifier\n",
        "from sklearn.naive_bayes import GaussianNB\n",
        "from sklearn.svm import SVC\n",
        "from sklearn.model_selection import GridSearchCV, RandomizedSearchCV\n",
        "from time import time"
      ],
      "execution_count": null,
      "outputs": []
    },
    {
      "cell_type": "code",
      "metadata": {
        "colab": {
          "base_uri": "https://localhost:8080/"
        },
        "id": "K_E8WjDo5_eF",
        "outputId": "59ab9650-de5a-44d3-a159-91eb00d0ce18"
      },
      "source": [
        "pipelines = []\n",
        "pipelines.append(('S-Scaled-LogisticRegression', Pipeline([('Scaler', StandardScaler()),('LR', LogisticRegression())]))),\n",
        "pipelines.append(('MM-Scaled-LogisticRegression', Pipeline([('Scaler', MinMaxScaler()),('LR', LogisticRegression())]))),\n",
        "\n",
        "pipelines.append(('S-Scaled-KNN', Pipeline([('Scaler', StandardScaler()),('KNN', KNeighborsClassifier())]))),\n",
        "pipelines.append(('MM-Scaled-KNN', Pipeline([('Scaler', MinMaxScaler()),('KNN', KNeighborsClassifier())]))),\n",
        "\n",
        "pipelines.append(('S-Scaled-SVM', Pipeline([('Scaler', StandardScaler()),('SVM', SVC())]))),\n",
        "pipelines.append(('MM-Scaled-SVM', Pipeline([('Scaler', MinMaxScaler()),('SVM', SVC())]))),\n",
        "\n",
        "pipelines.append(('S-Scaled-RandomForest', Pipeline([('Scaler', StandardScaler()),('RF', RandomForestClassifier())]))),\n",
        "pipelines.append(('MM-Scaled-RandomForest', Pipeline([('Scaler', MinMaxScaler()),('RF', RandomForestClassifier())]))),\n",
        "\n",
        "pipelines.append(('S-Scaled-DecisionTree', Pipeline([('Scaler', StandardScaler()),('DTC', DecisionTreeClassifier())]))),\n",
        "pipelines.append(('MM-Scaled-DecisionTree', Pipeline([('Scaler', MinMaxScaler()),('DTC', DecisionTreeClassifier())]))),\n",
        "\n",
        "pipelines.append(('S-Scaled-NaiveBayes', Pipeline([('Scaler', StandardScaler()),('NB', GaussianNB())]))),\n",
        "pipelines.append(('MM-Scaled-NaiveBayes', Pipeline([('Scaler', MinMaxScaler()),('NB', GaussianNB())]))),\n",
        "\n",
        "resultados = []\n",
        "nomes = []\n",
        "\n",
        "# Percorrendo cada um dos modelos\n",
        "for nome, modelo in pipelines:\n",
        "    kfold = StratifiedKFold(n_splits=10, shuffle = True, random_state=12)\n",
        "    cross_val_result = model_selection.cross_val_score(modelo, \n",
        "                                                     X, \n",
        "                                                     y, \n",
        "                                                     cv = kfold, \n",
        "                                                     scoring = 'accuracy')\n",
        "    resultados.append(cross_val_result)\n",
        "    nomes.append(nome)\n",
        "    texto = \"%s: %f (%f)\" % (nome, cross_val_result.mean(), cross_val_result.std())\n",
        "    print(texto)"
      ],
      "execution_count": null,
      "outputs": [
        {
          "output_type": "stream",
          "text": [
            "S-Scaled-LogisticRegression: 0.960000 (0.032660)\n",
            "MM-Scaled-LogisticRegression: 0.933333 (0.059628)\n",
            "S-Scaled-KNN: 0.953333 (0.042687)\n",
            "MM-Scaled-KNN: 0.946667 (0.040000)\n",
            "S-Scaled-SVM: 0.966667 (0.033333)\n",
            "MM-Scaled-SVM: 0.966667 (0.033333)\n",
            "S-Scaled-RandomForest: 0.960000 (0.032660)\n",
            "MM-Scaled-RandomForest: 0.946667 (0.026667)\n",
            "S-Scaled-DecisionTree: 0.960000 (0.032660)\n",
            "MM-Scaled-DecisionTree: 0.953333 (0.030551)\n",
            "S-Scaled-NaiveBayes: 0.953333 (0.042687)\n",
            "MM-Scaled-NaiveBayes: 0.953333 (0.042687)\n"
          ],
          "name": "stdout"
        }
      ]
    },
    {
      "cell_type": "markdown",
      "metadata": {
        "id": "85STsOcdLnPT"
      },
      "source": [
        "# Avaliações:\n",
        "* A melhor acurácia foi do SVM, tanto para o MinMaxScaler quanto para o StandardScaler o resultado foi igual, lembrando que o dataset Iris é bem simples e balanceado.\n",
        "* o MinMaxScaler transforma cada feature individualmente e as coloca em uma escala de 0 a 1.\n",
        "* O StandardScaler transforma os dados para uma média próxima de zero e um desvio padrão próximo a um, ou seja, assume que os valores não são discrepantes e os transforma em uma distribuição normal.\n",
        "* O benefício das técnicas é normalizar os dados das features e deixarem todos em uma mesma escala.\n"
      ]
    },
    {
      "cell_type": "markdown",
      "metadata": {
        "id": "GeNAnAk-C6Wk"
      },
      "source": [
        "# Vamos escolher o SVM que teve a melhor acurácia e um desvio padrão bem próximo do menor para executar o GridSearch e o RandomizedSearch."
      ]
    },
    {
      "cell_type": "code",
      "metadata": {
        "id": "58zV2DFvC665"
      },
      "source": [
        "def svc_param_selection(X, y, nfolds):\n",
        "    Cs = [0.001, 0.01, 0.1, 1, 10, 100]\n",
        "    gammas = [0.01, 0.1, 1, 10, 100]\n",
        "    kernels = ['linear', 'rbf', 'poly']\n",
        "    param_grid = {'C': Cs, 'kernel': kernels, 'gamma': gammas}\n",
        "    grid_search = GridSearchCV(SVC(random_state=10), param_grid, cv=nfolds)\n",
        "    grid_search.fit(X, y)\n",
        "    grid_search.best_params_\n",
        "    return grid_search.best_params_"
      ],
      "execution_count": null,
      "outputs": []
    },
    {
      "cell_type": "code",
      "metadata": {
        "colab": {
          "base_uri": "https://localhost:8080/"
        },
        "id": "AJu02NcEEnMr",
        "outputId": "54f1bde0-3339-4281-8617-93ca2632c1d2"
      },
      "source": [
        "svc_param_selection(X, y, 10)"
      ],
      "execution_count": null,
      "outputs": [
        {
          "output_type": "execute_result",
          "data": {
            "text/plain": [
              "{'C': 0.001, 'gamma': 1, 'kernel': 'poly'}"
            ]
          },
          "metadata": {
            "tags": []
          },
          "execution_count": 48
        }
      ]
    },
    {
      "cell_type": "code",
      "metadata": {
        "id": "JlywO7_RG2rK"
      },
      "source": [
        "clf_svc = SVC(C=0.001, gamma=1, kernel='poly')"
      ],
      "execution_count": null,
      "outputs": []
    },
    {
      "cell_type": "markdown",
      "metadata": {
        "id": "F_L4I6-mG2rL"
      },
      "source": [
        "**Treinando o modelo utilizando a validação utilizando Cross Validation e armazenando os resultados.**"
      ]
    },
    {
      "cell_type": "code",
      "metadata": {
        "id": "EY7MSGNoG2rM"
      },
      "source": [
        "resultados_svc = cross_val_predict(clf_svc, X, y, cv=5)"
      ],
      "execution_count": null,
      "outputs": []
    },
    {
      "cell_type": "markdown",
      "metadata": {
        "id": "4tGe22a5G2rN"
      },
      "source": [
        "**Verificando os resultados através de métricas.**"
      ]
    },
    {
      "cell_type": "code",
      "metadata": {
        "colab": {
          "base_uri": "https://localhost:8080/"
        },
        "id": "ZAGaqc_lG2rO",
        "outputId": "881bda97-95e1-4a3a-d3ef-66990b355b78"
      },
      "source": [
        "print(classification_report(y,resultados_svc,target_names=nomes_classes))"
      ],
      "execution_count": null,
      "outputs": [
        {
          "output_type": "stream",
          "text": [
            "                 precision    recall  f1-score   support\n",
            "\n",
            "    Iris-setosa       1.00      1.00      1.00        50\n",
            "Iris-versicolor       0.98      0.92      0.95        50\n",
            " Iris-virginica       0.92      0.98      0.95        50\n",
            "\n",
            "       accuracy                           0.97       150\n",
            "      macro avg       0.97      0.97      0.97       150\n",
            "   weighted avg       0.97      0.97      0.97       150\n",
            "\n"
          ],
          "name": "stdout"
        }
      ]
    },
    {
      "cell_type": "markdown",
      "metadata": {
        "id": "a7AtP_FvHlYo"
      },
      "source": [
        "**Métricas antes do tunning:**"
      ]
    },
    {
      "cell_type": "code",
      "metadata": {
        "colab": {
          "base_uri": "https://localhost:8080/"
        },
        "id": "Ljkf8X5OHX8B",
        "outputId": "3c519d92-4c1f-4ccc-bdd4-69d3860da345"
      },
      "source": [
        "print(classification_report(y,resultados_knn,target_names=nomes_classes))"
      ],
      "execution_count": null,
      "outputs": [
        {
          "output_type": "stream",
          "text": [
            "                 precision    recall  f1-score   support\n",
            "\n",
            "    Iris-setosa       1.00      1.00      1.00        50\n",
            "Iris-versicolor       0.98      0.94      0.96        50\n",
            " Iris-virginica       0.94      0.98      0.96        50\n",
            "\n",
            "       accuracy                           0.97       150\n",
            "      macro avg       0.97      0.97      0.97       150\n",
            "   weighted avg       0.97      0.97      0.97       150\n",
            "\n"
          ],
          "name": "stdout"
        }
      ]
    },
    {
      "cell_type": "markdown",
      "metadata": {
        "id": "ofJ0KYP9TQya"
      },
      "source": [
        "* A única métrica que piorou após o tunning do svc comparando com o knn foi a precisão da classe Iris-Virginica.\n",
        "* O recall da Iris-Versicolor melhorou de 0.92 para 0.94.\n",
        "* o f1-score da Iris-Versicolor e da Iris-Virginica melhoraram de 0.95 para 0.96.\n",
        "\n",
        "* a precisão verifica quantas vezes uma classe foi predita corretamente divido pela quantidade total de vezes que a classe foi predita.\n",
        "\n",
        "* recall ou revocaçãp representa a quantidade de vezes que uma classe foi predita corretamente dividido pela quantidade de vezes que a classe aparece no dado de teste.\n",
        "\n",
        "* a f1-score é  é a média harmônica entre precisão e revocação. Com essa informação podemos dizer a performance do classificador com um indicador apenas.\n",
        "\n",
        "\n",
        "\n"
      ]
    }
  ]
}