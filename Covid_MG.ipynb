{
  "nbformat": 4,
  "nbformat_minor": 0,
  "metadata": {
    "colab": {
      "name": "Covid-MG.ipynb",
      "provenance": [],
      "collapsed_sections": [],
      "mount_file_id": "16Exb-gyuHzqb8r0a9P3vRA0OsmFLaxai",
      "authorship_tag": "ABX9TyNRZDiItdd1UPgivMRXaXS5",
      "include_colab_link": true
    },
    "kernelspec": {
      "name": "python3",
      "display_name": "Python 3"
    },
    "language_info": {
      "name": "python"
    }
  },
  "cells": [
    {
      "cell_type": "markdown",
      "metadata": {
        "id": "view-in-github",
        "colab_type": "text"
      },
      "source": [
        "<a href=\"https://colab.research.google.com/github/paolofullone/DS_Paolo/blob/main/Covid_MG.ipynb\" target=\"_parent\"><img src=\"https://colab.research.google.com/assets/colab-badge.svg\" alt=\"Open In Colab\"/></a>"
      ]
    },
    {
      "cell_type": "markdown",
      "metadata": {
        "id": "xJ7ulcf6SOIs"
      },
      "source": [
        "# Este projeto tem objetivo de analisar os dados de Vacinas, Internados, Novos Casos, Óbitos relacionados a Covid na região do vale do aço com os dados oficiais do governo de mg, disponíveis no site: https://coronavirus.saude.mg.gov.br"
      ]
    },
    {
      "cell_type": "markdown",
      "metadata": {
        "id": "4gmj57qvlLSD"
      },
      "source": [
        "* Embora não seja o objetivo, pode ser feito para qualquer região de MG alterando uma linha de código."
      ]
    },
    {
      "cell_type": "code",
      "metadata": {
        "id": "lFzJAB6nSe9u"
      },
      "source": [
        "import pandas as pd\n",
        "import seaborn as sns\n",
        "import matplotlib.pyplot as plt\n",
        "import matplotlib\n",
        "import datetime\n",
        "from datetime import date\n",
        "import os\n",
        "%matplotlib inline"
      ],
      "execution_count": 1,
      "outputs": []
    },
    {
      "cell_type": "code",
      "metadata": {
        "id": "yxb2HWv_SLq0"
      },
      "source": [
        "# Lendo os arquivos\n",
        "\n",
        "xls_painel = pd.ExcelFile('/content/drive/MyDrive/CienciaDados/Covid/xlsx_painel.xlsx')\n",
        "df_confirmados = pd.read_excel(xls_painel, 'CONFIRMADOS')\n",
        "df_obitos = pd.read_excel(xls_painel, 'OBITOS')\n",
        "df_recuperados = pd.read_excel(xls_painel, 'RECUPERADOS')\n",
        "df_internados = pd.read_excel(xls_painel, 'INTERNADOS')"
      ],
      "execution_count": 2,
      "outputs": []
    },
    {
      "cell_type": "code",
      "metadata": {
        "id": "0CDVT0J-Spn_"
      },
      "source": [
        "df_vacina = pd.read_excel('/content/drive/MyDrive/CienciaDados/Covid/xlsx_vacinas.xlsx')"
      ],
      "execution_count": 3,
      "outputs": []
    },
    {
      "cell_type": "markdown",
      "metadata": {
        "id": "QPuxyOQ9STkF"
      },
      "source": [
        "# Após analisar os dados, alguns ajustes são necessários."
      ]
    },
    {
      "cell_type": "code",
      "metadata": {
        "id": "hFWTMKJn28hD"
      },
      "source": [
        "# Alguns datasets vieram com Data e outros DATA, alguns Macro e outros MACRO\n",
        "\n",
        "# Vamos criar uma lista de DFs para iterar.\n",
        "lista_df = [df_confirmados, df_obitos, df_recuperados, df_internados, df_vacina]\n",
        "\n",
        "# Não consegui iterar a modificação de deixar apenas a região vale do aço nos DF's, li alguns artigos no Stack sugerindo evitar essa situação com loop.\n",
        "\n",
        "# Macro Região selecionada Vale do Aço.\n",
        "macro_sel='VALE DO ACO'\n",
        "\n",
        "for i in lista_df:\n",
        "  i.rename(columns={'Data': 'DATA', 'Macro': 'MACRO'}, inplace=True)\n",
        "  i['MACRO'] = i['MACRO'].str.replace('VALE DO AÇO', 'VALE DO ACO')\n",
        "#  i = i.loc[i['MACRO'] == 'VALE DO ACO']\n",
        "#  i = i[i.MACRO=='VALE DO ACO']\n",
        "  pass\n",
        "\n",
        "df_confirmados = df_confirmados[df_confirmados.MACRO==macro_sel]\n",
        "df_obitos = df_obitos[df_obitos.MACRO==macro_sel] \n",
        "df_recuperados = df_recuperados[df_recuperados.MACRO==macro_sel] \n",
        "df_internados = df_internados[df_internados.MACRO==macro_sel]\n",
        "df_vacina = df_vacina[df_vacina.MACRO==macro_sel] \n",
        "  \n",
        "\n",
        "# df_confirmados = df_confirmados.loc[df_confirmados['MACRO'] == 'VALE DO ACO'] # assim também funciona."
      ],
      "execution_count": 4,
      "outputs": []
    },
    {
      "cell_type": "code",
      "metadata": {
        "id": "DGSucQ_wBnpn"
      },
      "source": [
        "# Salvando os dataframes para consulta e manipulação no Orange Data Frame.\n",
        "import os\n",
        "\n",
        "folderpath = \"/content/drive/MyDrive/CienciaDados/Covid/\"\n",
        "for i, df in enumerate(lista_df, 1):\n",
        "    filename = \"df_{}\".format(i)\n",
        "    filepath = os.path.join(folderpath, filename)\n",
        "    df.to_csv(filepath)"
      ],
      "execution_count": 5,
      "outputs": []
    },
    {
      "cell_type": "code",
      "metadata": {
        "colab": {
          "base_uri": "https://localhost:8080/",
          "height": 202
        },
        "id": "g4OJZ_WEoIwE",
        "outputId": "f2ca7ca7-fa5c-4a63-b041-49ac469f6ed2"
      },
      "source": [
        "df_confirmados.head()"
      ],
      "execution_count": 6,
      "outputs": [
        {
          "output_type": "execute_result",
          "data": {
            "text/html": [
              "<div>\n",
              "<style scoped>\n",
              "    .dataframe tbody tr th:only-of-type {\n",
              "        vertical-align: middle;\n",
              "    }\n",
              "\n",
              "    .dataframe tbody tr th {\n",
              "        vertical-align: top;\n",
              "    }\n",
              "\n",
              "    .dataframe thead th {\n",
              "        text-align: right;\n",
              "    }\n",
              "</style>\n",
              "<table border=\"1\" class=\"dataframe\">\n",
              "  <thead>\n",
              "    <tr style=\"text-align: right;\">\n",
              "      <th></th>\n",
              "      <th>MUNICIPIO_RESIDENCIA</th>\n",
              "      <th>NUM_CASOS</th>\n",
              "      <th>DATA</th>\n",
              "      <th>CodigoIBGE</th>\n",
              "      <th>URS</th>\n",
              "      <th>Micro</th>\n",
              "      <th>MACRO</th>\n",
              "    </tr>\n",
              "  </thead>\n",
              "  <tbody>\n",
              "    <tr>\n",
              "      <th>0</th>\n",
              "      <td>IPATINGA</td>\n",
              "      <td>1</td>\n",
              "      <td>2020-03-04</td>\n",
              "      <td>313130.0</td>\n",
              "      <td>CORONEL FABRICIANO</td>\n",
              "      <td>IPATINGA</td>\n",
              "      <td>VALE DO ACO</td>\n",
              "    </tr>\n",
              "    <tr>\n",
              "      <th>5</th>\n",
              "      <td>CORONEL FABRICIANO</td>\n",
              "      <td>1</td>\n",
              "      <td>2020-03-16</td>\n",
              "      <td>311940.0</td>\n",
              "      <td>CORONEL FABRICIANO</td>\n",
              "      <td>CORONEL FABRICIANO/TIMOTEO</td>\n",
              "      <td>VALE DO ACO</td>\n",
              "    </tr>\n",
              "    <tr>\n",
              "      <th>27</th>\n",
              "      <td>TIMOTEO</td>\n",
              "      <td>1</td>\n",
              "      <td>2020-03-21</td>\n",
              "      <td>316870.0</td>\n",
              "      <td>CORONEL FABRICIANO</td>\n",
              "      <td>CORONEL FABRICIANO/TIMOTEO</td>\n",
              "      <td>VALE DO ACO</td>\n",
              "    </tr>\n",
              "    <tr>\n",
              "      <th>43</th>\n",
              "      <td>TIMOTEO</td>\n",
              "      <td>1</td>\n",
              "      <td>2020-03-23</td>\n",
              "      <td>316870.0</td>\n",
              "      <td>CORONEL FABRICIANO</td>\n",
              "      <td>CORONEL FABRICIANO/TIMOTEO</td>\n",
              "      <td>VALE DO ACO</td>\n",
              "    </tr>\n",
              "    <tr>\n",
              "      <th>128</th>\n",
              "      <td>SANTANA DO PARAISO</td>\n",
              "      <td>1</td>\n",
              "      <td>2020-04-01</td>\n",
              "      <td>315895.0</td>\n",
              "      <td>CORONEL FABRICIANO</td>\n",
              "      <td>IPATINGA</td>\n",
              "      <td>VALE DO ACO</td>\n",
              "    </tr>\n",
              "  </tbody>\n",
              "</table>\n",
              "</div>"
            ],
            "text/plain": [
              "    MUNICIPIO_RESIDENCIA  NUM_CASOS  ...                       Micro        MACRO\n",
              "0               IPATINGA          1  ...                    IPATINGA  VALE DO ACO\n",
              "5     CORONEL FABRICIANO          1  ...  CORONEL FABRICIANO/TIMOTEO  VALE DO ACO\n",
              "27               TIMOTEO          1  ...  CORONEL FABRICIANO/TIMOTEO  VALE DO ACO\n",
              "43               TIMOTEO          1  ...  CORONEL FABRICIANO/TIMOTEO  VALE DO ACO\n",
              "128   SANTANA DO PARAISO          1  ...                    IPATINGA  VALE DO ACO\n",
              "\n",
              "[5 rows x 7 columns]"
            ]
          },
          "metadata": {
            "tags": []
          },
          "execution_count": 6
        }
      ]
    },
    {
      "cell_type": "code",
      "metadata": {
        "colab": {
          "base_uri": "https://localhost:8080/",
          "height": 202
        },
        "id": "caF8NCRHpKHc",
        "outputId": "ec4aaee6-5fa6-4280-eadc-250e7e6d8588"
      },
      "source": [
        "df_obitos.head()"
      ],
      "execution_count": 7,
      "outputs": [
        {
          "output_type": "execute_result",
          "data": {
            "text/html": [
              "<div>\n",
              "<style scoped>\n",
              "    .dataframe tbody tr th:only-of-type {\n",
              "        vertical-align: middle;\n",
              "    }\n",
              "\n",
              "    .dataframe tbody tr th {\n",
              "        vertical-align: top;\n",
              "    }\n",
              "\n",
              "    .dataframe thead th {\n",
              "        text-align: right;\n",
              "    }\n",
              "</style>\n",
              "<table border=\"1\" class=\"dataframe\">\n",
              "  <thead>\n",
              "    <tr style=\"text-align: right;\">\n",
              "      <th></th>\n",
              "      <th>MUNICIPIO_RESIDENCIA</th>\n",
              "      <th>NUM_OBITOS</th>\n",
              "      <th>DATA</th>\n",
              "      <th>CodigoIBGE</th>\n",
              "      <th>URS</th>\n",
              "      <th>Micro</th>\n",
              "      <th>MACRO</th>\n",
              "    </tr>\n",
              "  </thead>\n",
              "  <tbody>\n",
              "    <tr>\n",
              "      <th>1</th>\n",
              "      <td>ACUCENA</td>\n",
              "      <td>0</td>\n",
              "      <td>2020-03-19</td>\n",
              "      <td>310050.0</td>\n",
              "      <td>CORONEL FABRICIANO</td>\n",
              "      <td>IPATINGA</td>\n",
              "      <td>VALE DO ACO</td>\n",
              "    </tr>\n",
              "    <tr>\n",
              "      <th>15</th>\n",
              "      <td>BELO ORIENTE</td>\n",
              "      <td>0</td>\n",
              "      <td>2020-03-19</td>\n",
              "      <td>310630.0</td>\n",
              "      <td>CORONEL FABRICIANO</td>\n",
              "      <td>IPATINGA</td>\n",
              "      <td>VALE DO ACO</td>\n",
              "    </tr>\n",
              "    <tr>\n",
              "      <th>21</th>\n",
              "      <td>BOM JESUS DO GALHO</td>\n",
              "      <td>0</td>\n",
              "      <td>2020-03-19</td>\n",
              "      <td>310780.0</td>\n",
              "      <td>CORONEL FABRICIANO</td>\n",
              "      <td>CARATINGA</td>\n",
              "      <td>VALE DO ACO</td>\n",
              "    </tr>\n",
              "    <tr>\n",
              "      <th>35</th>\n",
              "      <td>CARATINGA</td>\n",
              "      <td>0</td>\n",
              "      <td>2020-03-19</td>\n",
              "      <td>311340.0</td>\n",
              "      <td>CORONEL FABRICIANO</td>\n",
              "      <td>CARATINGA</td>\n",
              "      <td>VALE DO ACO</td>\n",
              "    </tr>\n",
              "    <tr>\n",
              "      <th>44</th>\n",
              "      <td>CORONEL FABRICIANO</td>\n",
              "      <td>0</td>\n",
              "      <td>2020-03-19</td>\n",
              "      <td>311940.0</td>\n",
              "      <td>CORONEL FABRICIANO</td>\n",
              "      <td>CORONEL FABRICIANO/TIMOTEO</td>\n",
              "      <td>VALE DO ACO</td>\n",
              "    </tr>\n",
              "  </tbody>\n",
              "</table>\n",
              "</div>"
            ],
            "text/plain": [
              "   MUNICIPIO_RESIDENCIA  NUM_OBITOS  ...                       Micro        MACRO\n",
              "1               ACUCENA           0  ...                    IPATINGA  VALE DO ACO\n",
              "15         BELO ORIENTE           0  ...                    IPATINGA  VALE DO ACO\n",
              "21   BOM JESUS DO GALHO           0  ...                   CARATINGA  VALE DO ACO\n",
              "35            CARATINGA           0  ...                   CARATINGA  VALE DO ACO\n",
              "44   CORONEL FABRICIANO           0  ...  CORONEL FABRICIANO/TIMOTEO  VALE DO ACO\n",
              "\n",
              "[5 rows x 7 columns]"
            ]
          },
          "metadata": {
            "tags": []
          },
          "execution_count": 7
        }
      ]
    },
    {
      "cell_type": "code",
      "metadata": {
        "colab": {
          "base_uri": "https://localhost:8080/",
          "height": 202
        },
        "id": "CIa5dqUY57TW",
        "outputId": "948eda58-9591-4f6e-b3e2-d310507b6ddf"
      },
      "source": [
        "df_recuperados.head()"
      ],
      "execution_count": 8,
      "outputs": [
        {
          "output_type": "execute_result",
          "data": {
            "text/html": [
              "<div>\n",
              "<style scoped>\n",
              "    .dataframe tbody tr th:only-of-type {\n",
              "        vertical-align: middle;\n",
              "    }\n",
              "\n",
              "    .dataframe tbody tr th {\n",
              "        vertical-align: top;\n",
              "    }\n",
              "\n",
              "    .dataframe thead th {\n",
              "        text-align: right;\n",
              "    }\n",
              "</style>\n",
              "<table border=\"1\" class=\"dataframe\">\n",
              "  <thead>\n",
              "    <tr style=\"text-align: right;\">\n",
              "      <th></th>\n",
              "      <th>MUNICIPIO_RESIDENCIA</th>\n",
              "      <th>NUM_RECUPERADOS</th>\n",
              "      <th>DATA</th>\n",
              "      <th>CodigoIBGE</th>\n",
              "      <th>URS</th>\n",
              "      <th>Micro</th>\n",
              "      <th>MACRO</th>\n",
              "    </tr>\n",
              "  </thead>\n",
              "  <tbody>\n",
              "    <tr>\n",
              "      <th>4</th>\n",
              "      <td>ACUCENA</td>\n",
              "      <td>0</td>\n",
              "      <td>2020-03-23</td>\n",
              "      <td>310050.0</td>\n",
              "      <td>CORONEL FABRICIANO</td>\n",
              "      <td>IPATINGA</td>\n",
              "      <td>VALE DO ACO</td>\n",
              "    </tr>\n",
              "    <tr>\n",
              "      <th>32</th>\n",
              "      <td>ANTONIO DIAS</td>\n",
              "      <td>0</td>\n",
              "      <td>2020-03-23</td>\n",
              "      <td>310300.0</td>\n",
              "      <td>CORONEL FABRICIANO</td>\n",
              "      <td>CORONEL FABRICIANO/TIMOTEO</td>\n",
              "      <td>VALE DO ACO</td>\n",
              "    </tr>\n",
              "    <tr>\n",
              "      <th>66</th>\n",
              "      <td>BELO ORIENTE</td>\n",
              "      <td>0</td>\n",
              "      <td>2020-03-23</td>\n",
              "      <td>310630.0</td>\n",
              "      <td>CORONEL FABRICIANO</td>\n",
              "      <td>IPATINGA</td>\n",
              "      <td>VALE DO ACO</td>\n",
              "    </tr>\n",
              "    <tr>\n",
              "      <th>82</th>\n",
              "      <td>BOM JESUS DO GALHO</td>\n",
              "      <td>0</td>\n",
              "      <td>2020-03-23</td>\n",
              "      <td>310780.0</td>\n",
              "      <td>CORONEL FABRICIANO</td>\n",
              "      <td>CARATINGA</td>\n",
              "      <td>VALE DO ACO</td>\n",
              "    </tr>\n",
              "    <tr>\n",
              "      <th>94</th>\n",
              "      <td>BRAUNAS</td>\n",
              "      <td>0</td>\n",
              "      <td>2020-03-23</td>\n",
              "      <td>310880.0</td>\n",
              "      <td>CORONEL FABRICIANO</td>\n",
              "      <td>IPATINGA</td>\n",
              "      <td>VALE DO ACO</td>\n",
              "    </tr>\n",
              "  </tbody>\n",
              "</table>\n",
              "</div>"
            ],
            "text/plain": [
              "   MUNICIPIO_RESIDENCIA  ...        MACRO\n",
              "4               ACUCENA  ...  VALE DO ACO\n",
              "32         ANTONIO DIAS  ...  VALE DO ACO\n",
              "66         BELO ORIENTE  ...  VALE DO ACO\n",
              "82   BOM JESUS DO GALHO  ...  VALE DO ACO\n",
              "94              BRAUNAS  ...  VALE DO ACO\n",
              "\n",
              "[5 rows x 7 columns]"
            ]
          },
          "metadata": {
            "tags": []
          },
          "execution_count": 8
        }
      ]
    },
    {
      "cell_type": "code",
      "metadata": {
        "colab": {
          "base_uri": "https://localhost:8080/",
          "height": 202
        },
        "id": "Zxjw40BM57Gt",
        "outputId": "c438ea67-9317-42a8-9941-c18942d10ea9"
      },
      "source": [
        "df_internados.head()"
      ],
      "execution_count": 9,
      "outputs": [
        {
          "output_type": "execute_result",
          "data": {
            "text/html": [
              "<div>\n",
              "<style scoped>\n",
              "    .dataframe tbody tr th:only-of-type {\n",
              "        vertical-align: middle;\n",
              "    }\n",
              "\n",
              "    .dataframe tbody tr th {\n",
              "        vertical-align: top;\n",
              "    }\n",
              "\n",
              "    .dataframe thead th {\n",
              "        text-align: right;\n",
              "    }\n",
              "</style>\n",
              "<table border=\"1\" class=\"dataframe\">\n",
              "  <thead>\n",
              "    <tr style=\"text-align: right;\">\n",
              "      <th></th>\n",
              "      <th>MUNICIPIO_RESIDENCIA</th>\n",
              "      <th>NUM_INTERNADOS</th>\n",
              "      <th>DATA</th>\n",
              "      <th>CodigoIBGE</th>\n",
              "      <th>URS</th>\n",
              "      <th>Micro</th>\n",
              "      <th>MACRO</th>\n",
              "    </tr>\n",
              "  </thead>\n",
              "  <tbody>\n",
              "    <tr>\n",
              "      <th>4</th>\n",
              "      <td>ACUCENA</td>\n",
              "      <td>0</td>\n",
              "      <td>2020-03-23</td>\n",
              "      <td>310050.0</td>\n",
              "      <td>CORONEL FABRICIANO</td>\n",
              "      <td>IPATINGA</td>\n",
              "      <td>VALE DO ACO</td>\n",
              "    </tr>\n",
              "    <tr>\n",
              "      <th>32</th>\n",
              "      <td>ANTONIO DIAS</td>\n",
              "      <td>0</td>\n",
              "      <td>2020-03-23</td>\n",
              "      <td>310300.0</td>\n",
              "      <td>CORONEL FABRICIANO</td>\n",
              "      <td>CORONEL FABRICIANO/TIMOTEO</td>\n",
              "      <td>VALE DO ACO</td>\n",
              "    </tr>\n",
              "    <tr>\n",
              "      <th>66</th>\n",
              "      <td>BELO ORIENTE</td>\n",
              "      <td>0</td>\n",
              "      <td>2020-03-23</td>\n",
              "      <td>310630.0</td>\n",
              "      <td>CORONEL FABRICIANO</td>\n",
              "      <td>IPATINGA</td>\n",
              "      <td>VALE DO ACO</td>\n",
              "    </tr>\n",
              "    <tr>\n",
              "      <th>82</th>\n",
              "      <td>BOM JESUS DO GALHO</td>\n",
              "      <td>0</td>\n",
              "      <td>2020-03-23</td>\n",
              "      <td>310780.0</td>\n",
              "      <td>CORONEL FABRICIANO</td>\n",
              "      <td>CARATINGA</td>\n",
              "      <td>VALE DO ACO</td>\n",
              "    </tr>\n",
              "    <tr>\n",
              "      <th>94</th>\n",
              "      <td>BRAUNAS</td>\n",
              "      <td>0</td>\n",
              "      <td>2020-03-23</td>\n",
              "      <td>310880.0</td>\n",
              "      <td>CORONEL FABRICIANO</td>\n",
              "      <td>IPATINGA</td>\n",
              "      <td>VALE DO ACO</td>\n",
              "    </tr>\n",
              "  </tbody>\n",
              "</table>\n",
              "</div>"
            ],
            "text/plain": [
              "   MUNICIPIO_RESIDENCIA  ...        MACRO\n",
              "4               ACUCENA  ...  VALE DO ACO\n",
              "32         ANTONIO DIAS  ...  VALE DO ACO\n",
              "66         BELO ORIENTE  ...  VALE DO ACO\n",
              "82   BOM JESUS DO GALHO  ...  VALE DO ACO\n",
              "94              BRAUNAS  ...  VALE DO ACO\n",
              "\n",
              "[5 rows x 7 columns]"
            ]
          },
          "metadata": {
            "tags": []
          },
          "execution_count": 9
        }
      ]
    },
    {
      "cell_type": "code",
      "metadata": {
        "colab": {
          "base_uri": "https://localhost:8080/",
          "height": 202
        },
        "id": "gTf_kgeaTszD",
        "outputId": "0f4e3c7b-c0b5-4586-d2a9-db46236592d4"
      },
      "source": [
        "df_vacina.head()"
      ],
      "execution_count": 10,
      "outputs": [
        {
          "output_type": "execute_result",
          "data": {
            "text/html": [
              "<div>\n",
              "<style scoped>\n",
              "    .dataframe tbody tr th:only-of-type {\n",
              "        vertical-align: middle;\n",
              "    }\n",
              "\n",
              "    .dataframe tbody tr th {\n",
              "        vertical-align: top;\n",
              "    }\n",
              "\n",
              "    .dataframe thead th {\n",
              "        text-align: right;\n",
              "    }\n",
              "</style>\n",
              "<table border=\"1\" class=\"dataframe\">\n",
              "  <thead>\n",
              "    <tr style=\"text-align: right;\">\n",
              "      <th></th>\n",
              "      <th>MUNICIPIO_RESIDENCIA</th>\n",
              "      <th>URS</th>\n",
              "      <th>MICRO</th>\n",
              "      <th>MACRO</th>\n",
              "      <th>CodigoIBGE</th>\n",
              "      <th>DATA</th>\n",
              "      <th>Grupo</th>\n",
              "      <th>Dose</th>\n",
              "      <th>Doses Aplicadas</th>\n",
              "      <th>Unnamed: 9</th>\n",
              "    </tr>\n",
              "  </thead>\n",
              "  <tbody>\n",
              "    <tr>\n",
              "      <th>4</th>\n",
              "      <td>Açucena</td>\n",
              "      <td>Coronel Fabriciano</td>\n",
              "      <td>IPATINGA</td>\n",
              "      <td>VALE DO ACO</td>\n",
              "      <td>310050</td>\n",
              "      <td>2021-01-25</td>\n",
              "      <td>INDÍGENAS ALDEADOS</td>\n",
              "      <td>PRIMEIRA DOSE</td>\n",
              "      <td>0</td>\n",
              "      <td>NaN</td>\n",
              "    </tr>\n",
              "    <tr>\n",
              "      <th>32</th>\n",
              "      <td>Antônio Dias</td>\n",
              "      <td>Coronel Fabriciano</td>\n",
              "      <td>CORONEL FABRICIANO/TIMÓTEO</td>\n",
              "      <td>VALE DO ACO</td>\n",
              "      <td>310300</td>\n",
              "      <td>2021-01-25</td>\n",
              "      <td>INDÍGENAS ALDEADOS</td>\n",
              "      <td>PRIMEIRA DOSE</td>\n",
              "      <td>0</td>\n",
              "      <td>NaN</td>\n",
              "    </tr>\n",
              "    <tr>\n",
              "      <th>66</th>\n",
              "      <td>Belo Oriente</td>\n",
              "      <td>Coronel Fabriciano</td>\n",
              "      <td>IPATINGA</td>\n",
              "      <td>VALE DO ACO</td>\n",
              "      <td>310630</td>\n",
              "      <td>2021-01-25</td>\n",
              "      <td>INDÍGENAS ALDEADOS</td>\n",
              "      <td>PRIMEIRA DOSE</td>\n",
              "      <td>0</td>\n",
              "      <td>NaN</td>\n",
              "    </tr>\n",
              "    <tr>\n",
              "      <th>82</th>\n",
              "      <td>Bom Jesus do Galho</td>\n",
              "      <td>Coronel Fabriciano</td>\n",
              "      <td>CARATINGA</td>\n",
              "      <td>VALE DO ACO</td>\n",
              "      <td>310780</td>\n",
              "      <td>2021-01-25</td>\n",
              "      <td>INDÍGENAS ALDEADOS</td>\n",
              "      <td>PRIMEIRA DOSE</td>\n",
              "      <td>0</td>\n",
              "      <td>NaN</td>\n",
              "    </tr>\n",
              "    <tr>\n",
              "      <th>94</th>\n",
              "      <td>Braúnas</td>\n",
              "      <td>Coronel Fabriciano</td>\n",
              "      <td>IPATINGA</td>\n",
              "      <td>VALE DO ACO</td>\n",
              "      <td>310880</td>\n",
              "      <td>2021-01-25</td>\n",
              "      <td>INDÍGENAS ALDEADOS</td>\n",
              "      <td>PRIMEIRA DOSE</td>\n",
              "      <td>0</td>\n",
              "      <td>NaN</td>\n",
              "    </tr>\n",
              "  </tbody>\n",
              "</table>\n",
              "</div>"
            ],
            "text/plain": [
              "   MUNICIPIO_RESIDENCIA                 URS  ... Doses Aplicadas Unnamed: 9\n",
              "4               Açucena  Coronel Fabriciano  ...               0        NaN\n",
              "32         Antônio Dias  Coronel Fabriciano  ...               0        NaN\n",
              "66         Belo Oriente  Coronel Fabriciano  ...               0        NaN\n",
              "82   Bom Jesus do Galho  Coronel Fabriciano  ...               0        NaN\n",
              "94              Braúnas  Coronel Fabriciano  ...               0        NaN\n",
              "\n",
              "[5 rows x 10 columns]"
            ]
          },
          "metadata": {
            "tags": []
          },
          "execution_count": 10
        }
      ]
    },
    {
      "cell_type": "code",
      "metadata": {
        "id": "NBOG1jiQBhZz",
        "colab": {
          "base_uri": "https://localhost:8080/"
        },
        "outputId": "2485e9f0-28f4-43fe-dc94-085998c6e895"
      },
      "source": [
        "df_vacina.drop(columns='Unnamed: 9', inplace=True)\n",
        "# O arquivo excel no momento em que o código foi gerado tem um número '3113' na linha 513508 na nona coluna. Decidi dropar pois não faz sentido."
      ],
      "execution_count": 11,
      "outputs": [
        {
          "output_type": "stream",
          "text": [
            "/usr/local/lib/python3.7/dist-packages/pandas/core/frame.py:4174: SettingWithCopyWarning: \n",
            "A value is trying to be set on a copy of a slice from a DataFrame\n",
            "\n",
            "See the caveats in the documentation: https://pandas.pydata.org/pandas-docs/stable/user_guide/indexing.html#returning-a-view-versus-a-copy\n",
            "  errors=errors,\n"
          ],
          "name": "stderr"
        }
      ]
    },
    {
      "cell_type": "markdown",
      "metadata": {
        "id": "zWzfimw9T9ZB"
      },
      "source": [
        "# Datas:\n",
        "* Dataset de casos confirmados começa em **04/03/2020**\n",
        "* Dataset de ótibos começa em **19/03/2020**\n",
        "* Dataset de Vacina começa em **25/01/2021**\n",
        "\n",
        "* **Vamos trabalhar com alguns periodos de dias para geração de gráficos.**\n",
        "\n",
        "Obs: Li os demais datasets (internados, recuperados) mas no momento não vou trabalhar estes dados."
      ]
    },
    {
      "cell_type": "code",
      "metadata": {
        "colab": {
          "base_uri": "https://localhost:8080/"
        },
        "id": "NQTyFZHjMaLv",
        "outputId": "f2130e8c-ade3-430d-9cb5-00fc53f20e68"
      },
      "source": [
        "min(df_confirmados['DATA']), max(df_confirmados['DATA'])"
      ],
      "execution_count": 12,
      "outputs": [
        {
          "output_type": "execute_result",
          "data": {
            "text/plain": [
              "(Timestamp('2020-03-04 00:00:00'), Timestamp('2021-04-05 00:00:00'))"
            ]
          },
          "metadata": {
            "tags": []
          },
          "execution_count": 12
        }
      ]
    },
    {
      "cell_type": "code",
      "metadata": {
        "colab": {
          "base_uri": "https://localhost:8080/"
        },
        "id": "h-USEgw4XHgm",
        "outputId": "ae408d77-7b71-47e2-b0e9-97b1751c8aeb"
      },
      "source": [
        "min(df_recuperados['DATA']), max(df_recuperados['DATA'])"
      ],
      "execution_count": 13,
      "outputs": [
        {
          "output_type": "execute_result",
          "data": {
            "text/plain": [
              "(Timestamp('2020-03-23 00:00:00'), Timestamp('2021-04-05 00:00:00'))"
            ]
          },
          "metadata": {
            "tags": []
          },
          "execution_count": 13
        }
      ]
    },
    {
      "cell_type": "code",
      "metadata": {
        "colab": {
          "base_uri": "https://localhost:8080/"
        },
        "id": "NjnYS0X2ND1e",
        "outputId": "53a09e3b-1278-42a8-87ea-68262f66b039"
      },
      "source": [
        "min(df_obitos['DATA']), max(df_obitos['DATA'])"
      ],
      "execution_count": 14,
      "outputs": [
        {
          "output_type": "execute_result",
          "data": {
            "text/plain": [
              "(Timestamp('2020-03-19 00:00:00'), Timestamp('2021-04-05 00:00:00'))"
            ]
          },
          "metadata": {
            "tags": []
          },
          "execution_count": 14
        }
      ]
    },
    {
      "cell_type": "code",
      "metadata": {
        "colab": {
          "base_uri": "https://localhost:8080/"
        },
        "id": "BdBhA5tlTls3",
        "outputId": "28df16e1-31f9-4038-eac3-18c33b36372f"
      },
      "source": [
        "min(df_vacina['DATA']), max(df_vacina['DATA'])"
      ],
      "execution_count": 15,
      "outputs": [
        {
          "output_type": "execute_result",
          "data": {
            "text/plain": [
              "(Timestamp('2021-01-25 00:00:00'), Timestamp('2021-04-01 00:00:00'))"
            ]
          },
          "metadata": {
            "tags": []
          },
          "execution_count": 15
        }
      ]
    },
    {
      "cell_type": "code",
      "metadata": {
        "colab": {
          "base_uri": "https://localhost:8080/"
        },
        "id": "ao3Jd6UyyBR5",
        "outputId": "35e4dab1-97f3-4d72-8cf6-bb3238257780"
      },
      "source": [
        "min(df_internados['DATA']), max(df_internados['DATA'])"
      ],
      "execution_count": 16,
      "outputs": [
        {
          "output_type": "execute_result",
          "data": {
            "text/plain": [
              "(Timestamp('2020-03-23 00:00:00'), Timestamp('2021-04-05 00:00:00'))"
            ]
          },
          "metadata": {
            "tags": []
          },
          "execution_count": 16
        }
      ]
    },
    {
      "cell_type": "code",
      "metadata": {
        "id": "w7yLtuEpOGGr"
      },
      "source": [
        ""
      ],
      "execution_count": 16,
      "outputs": []
    },
    {
      "cell_type": "markdown",
      "metadata": {
        "id": "jvaSqR_KXmLd"
      },
      "source": [
        "# Definindo quantos dias de dados queremos examinar."
      ]
    },
    {
      "cell_type": "code",
      "metadata": {
        "id": "F5sVplvvvyko"
      },
      "source": [
        "days=('30day')"
      ],
      "execution_count": 17,
      "outputs": []
    },
    {
      "cell_type": "code",
      "metadata": {
        "id": "YBePBjGN5lBd"
      },
      "source": [
        "df_confirmados = df_confirmados[df_confirmados.DATA > datetime.datetime.now() - pd.to_timedelta(days)]"
      ],
      "execution_count": 18,
      "outputs": []
    },
    {
      "cell_type": "code",
      "metadata": {
        "id": "irjPyDCgX6or"
      },
      "source": [
        "df_recuperados = df_recuperados[df_recuperados.DATA > datetime.datetime.now() - pd.to_timedelta(days)]"
      ],
      "execution_count": 19,
      "outputs": []
    },
    {
      "cell_type": "code",
      "metadata": {
        "id": "bsu14cQN08OX"
      },
      "source": [
        "df_obitos = df_obitos[df_obitos.DATA > datetime.datetime.now() - pd.to_timedelta(days)]"
      ],
      "execution_count": 20,
      "outputs": []
    },
    {
      "cell_type": "code",
      "metadata": {
        "id": "Mg4bluFr7N6y"
      },
      "source": [
        "df_vacina = df_vacina[df_vacina.DATA > datetime.datetime.now() - pd.to_timedelta(days)]"
      ],
      "execution_count": 21,
      "outputs": []
    },
    {
      "cell_type": "code",
      "metadata": {
        "id": "yZMOOVxJyYs6"
      },
      "source": [
        "df_internados = df_internados[df_internados.DATA > datetime.datetime.now() - pd.to_timedelta(days)]"
      ],
      "execution_count": 22,
      "outputs": []
    },
    {
      "cell_type": "markdown",
      "metadata": {
        "id": "EU_1HBIl7svm"
      },
      "source": [
        "# Análise Exploratória dos Dados:"
      ]
    },
    {
      "cell_type": "code",
      "metadata": {
        "id": "M9xDMSeI_AX6",
        "colab": {
          "base_uri": "https://localhost:8080/",
          "height": 202
        },
        "outputId": "4d380ad8-0163-4ae3-af9b-7a1453cf6ac9"
      },
      "source": [
        "df_confirmados.head()"
      ],
      "execution_count": 23,
      "outputs": [
        {
          "output_type": "execute_result",
          "data": {
            "text/html": [
              "<div>\n",
              "<style scoped>\n",
              "    .dataframe tbody tr th:only-of-type {\n",
              "        vertical-align: middle;\n",
              "    }\n",
              "\n",
              "    .dataframe tbody tr th {\n",
              "        vertical-align: top;\n",
              "    }\n",
              "\n",
              "    .dataframe thead th {\n",
              "        text-align: right;\n",
              "    }\n",
              "</style>\n",
              "<table border=\"1\" class=\"dataframe\">\n",
              "  <thead>\n",
              "    <tr style=\"text-align: right;\">\n",
              "      <th></th>\n",
              "      <th>MUNICIPIO_RESIDENCIA</th>\n",
              "      <th>NUM_CASOS</th>\n",
              "      <th>DATA</th>\n",
              "      <th>CodigoIBGE</th>\n",
              "      <th>URS</th>\n",
              "      <th>Micro</th>\n",
              "      <th>MACRO</th>\n",
              "    </tr>\n",
              "  </thead>\n",
              "  <tbody>\n",
              "    <tr>\n",
              "      <th>212335</th>\n",
              "      <td>ACUCENA</td>\n",
              "      <td>0</td>\n",
              "      <td>2021-03-08</td>\n",
              "      <td>310050.0</td>\n",
              "      <td>CORONEL FABRICIANO</td>\n",
              "      <td>IPATINGA</td>\n",
              "      <td>VALE DO ACO</td>\n",
              "    </tr>\n",
              "    <tr>\n",
              "      <th>212363</th>\n",
              "      <td>ANTONIO DIAS</td>\n",
              "      <td>0</td>\n",
              "      <td>2021-03-08</td>\n",
              "      <td>310300.0</td>\n",
              "      <td>CORONEL FABRICIANO</td>\n",
              "      <td>CORONEL FABRICIANO/TIMOTEO</td>\n",
              "      <td>VALE DO ACO</td>\n",
              "    </tr>\n",
              "    <tr>\n",
              "      <th>212397</th>\n",
              "      <td>BELO ORIENTE</td>\n",
              "      <td>0</td>\n",
              "      <td>2021-03-08</td>\n",
              "      <td>310630.0</td>\n",
              "      <td>CORONEL FABRICIANO</td>\n",
              "      <td>IPATINGA</td>\n",
              "      <td>VALE DO ACO</td>\n",
              "    </tr>\n",
              "    <tr>\n",
              "      <th>212413</th>\n",
              "      <td>BOM JESUS DO GALHO</td>\n",
              "      <td>0</td>\n",
              "      <td>2021-03-08</td>\n",
              "      <td>310780.0</td>\n",
              "      <td>CORONEL FABRICIANO</td>\n",
              "      <td>CARATINGA</td>\n",
              "      <td>VALE DO ACO</td>\n",
              "    </tr>\n",
              "    <tr>\n",
              "      <th>212425</th>\n",
              "      <td>BRAUNAS</td>\n",
              "      <td>0</td>\n",
              "      <td>2021-03-08</td>\n",
              "      <td>310880.0</td>\n",
              "      <td>CORONEL FABRICIANO</td>\n",
              "      <td>IPATINGA</td>\n",
              "      <td>VALE DO ACO</td>\n",
              "    </tr>\n",
              "  </tbody>\n",
              "</table>\n",
              "</div>"
            ],
            "text/plain": [
              "       MUNICIPIO_RESIDENCIA  NUM_CASOS  ...                       Micro        MACRO\n",
              "212335              ACUCENA          0  ...                    IPATINGA  VALE DO ACO\n",
              "212363         ANTONIO DIAS          0  ...  CORONEL FABRICIANO/TIMOTEO  VALE DO ACO\n",
              "212397         BELO ORIENTE          0  ...                    IPATINGA  VALE DO ACO\n",
              "212413   BOM JESUS DO GALHO          0  ...                   CARATINGA  VALE DO ACO\n",
              "212425              BRAUNAS          0  ...                    IPATINGA  VALE DO ACO\n",
              "\n",
              "[5 rows x 7 columns]"
            ]
          },
          "metadata": {
            "tags": []
          },
          "execution_count": 23
        }
      ]
    },
    {
      "cell_type": "code",
      "metadata": {
        "id": "f2d7mcT1YKye"
      },
      "source": [
        ""
      ],
      "execution_count": 23,
      "outputs": []
    },
    {
      "cell_type": "code",
      "metadata": {
        "id": "UTGAnqgF_AOi",
        "colab": {
          "base_uri": "https://localhost:8080/",
          "height": 202
        },
        "outputId": "16aa47d0-8a0c-4a47-b9be-08ea14ec0cae"
      },
      "source": [
        "df_obitos.head()"
      ],
      "execution_count": 24,
      "outputs": [
        {
          "output_type": "execute_result",
          "data": {
            "text/html": [
              "<div>\n",
              "<style scoped>\n",
              "    .dataframe tbody tr th:only-of-type {\n",
              "        vertical-align: middle;\n",
              "    }\n",
              "\n",
              "    .dataframe tbody tr th {\n",
              "        vertical-align: top;\n",
              "    }\n",
              "\n",
              "    .dataframe thead th {\n",
              "        text-align: right;\n",
              "    }\n",
              "</style>\n",
              "<table border=\"1\" class=\"dataframe\">\n",
              "  <thead>\n",
              "    <tr style=\"text-align: right;\">\n",
              "      <th></th>\n",
              "      <th>MUNICIPIO_RESIDENCIA</th>\n",
              "      <th>NUM_OBITOS</th>\n",
              "      <th>DATA</th>\n",
              "      <th>CodigoIBGE</th>\n",
              "      <th>URS</th>\n",
              "      <th>Micro</th>\n",
              "      <th>MACRO</th>\n",
              "    </tr>\n",
              "  </thead>\n",
              "  <tbody>\n",
              "    <tr>\n",
              "      <th>236986</th>\n",
              "      <td>ACUCENA</td>\n",
              "      <td>0</td>\n",
              "      <td>2021-03-08</td>\n",
              "      <td>310050.0</td>\n",
              "      <td>CORONEL FABRICIANO</td>\n",
              "      <td>IPATINGA</td>\n",
              "      <td>VALE DO ACO</td>\n",
              "    </tr>\n",
              "    <tr>\n",
              "      <th>237014</th>\n",
              "      <td>ANTONIO DIAS</td>\n",
              "      <td>0</td>\n",
              "      <td>2021-03-08</td>\n",
              "      <td>310300.0</td>\n",
              "      <td>CORONEL FABRICIANO</td>\n",
              "      <td>CORONEL FABRICIANO/TIMOTEO</td>\n",
              "      <td>VALE DO ACO</td>\n",
              "    </tr>\n",
              "    <tr>\n",
              "      <th>237048</th>\n",
              "      <td>BELO ORIENTE</td>\n",
              "      <td>0</td>\n",
              "      <td>2021-03-08</td>\n",
              "      <td>310630.0</td>\n",
              "      <td>CORONEL FABRICIANO</td>\n",
              "      <td>IPATINGA</td>\n",
              "      <td>VALE DO ACO</td>\n",
              "    </tr>\n",
              "    <tr>\n",
              "      <th>237064</th>\n",
              "      <td>BOM JESUS DO GALHO</td>\n",
              "      <td>0</td>\n",
              "      <td>2021-03-08</td>\n",
              "      <td>310780.0</td>\n",
              "      <td>CORONEL FABRICIANO</td>\n",
              "      <td>CARATINGA</td>\n",
              "      <td>VALE DO ACO</td>\n",
              "    </tr>\n",
              "    <tr>\n",
              "      <th>237076</th>\n",
              "      <td>BRAUNAS</td>\n",
              "      <td>0</td>\n",
              "      <td>2021-03-08</td>\n",
              "      <td>310880.0</td>\n",
              "      <td>CORONEL FABRICIANO</td>\n",
              "      <td>IPATINGA</td>\n",
              "      <td>VALE DO ACO</td>\n",
              "    </tr>\n",
              "  </tbody>\n",
              "</table>\n",
              "</div>"
            ],
            "text/plain": [
              "       MUNICIPIO_RESIDENCIA  ...        MACRO\n",
              "236986              ACUCENA  ...  VALE DO ACO\n",
              "237014         ANTONIO DIAS  ...  VALE DO ACO\n",
              "237048         BELO ORIENTE  ...  VALE DO ACO\n",
              "237064   BOM JESUS DO GALHO  ...  VALE DO ACO\n",
              "237076              BRAUNAS  ...  VALE DO ACO\n",
              "\n",
              "[5 rows x 7 columns]"
            ]
          },
          "metadata": {
            "tags": []
          },
          "execution_count": 24
        }
      ]
    },
    {
      "cell_type": "code",
      "metadata": {
        "id": "aXUacni3_AEU",
        "colab": {
          "base_uri": "https://localhost:8080/",
          "height": 202
        },
        "outputId": "9c9e55e3-8546-4611-9052-62adfff41c6b"
      },
      "source": [
        "df_vacina.head()"
      ],
      "execution_count": 25,
      "outputs": [
        {
          "output_type": "execute_result",
          "data": {
            "text/html": [
              "<div>\n",
              "<style scoped>\n",
              "    .dataframe tbody tr th:only-of-type {\n",
              "        vertical-align: middle;\n",
              "    }\n",
              "\n",
              "    .dataframe tbody tr th {\n",
              "        vertical-align: top;\n",
              "    }\n",
              "\n",
              "    .dataframe thead th {\n",
              "        text-align: right;\n",
              "    }\n",
              "</style>\n",
              "<table border=\"1\" class=\"dataframe\">\n",
              "  <thead>\n",
              "    <tr style=\"text-align: right;\">\n",
              "      <th></th>\n",
              "      <th>MUNICIPIO_RESIDENCIA</th>\n",
              "      <th>URS</th>\n",
              "      <th>MICRO</th>\n",
              "      <th>MACRO</th>\n",
              "      <th>CodigoIBGE</th>\n",
              "      <th>DATA</th>\n",
              "      <th>Grupo</th>\n",
              "      <th>Dose</th>\n",
              "      <th>Doses Aplicadas</th>\n",
              "    </tr>\n",
              "  </thead>\n",
              "  <tbody>\n",
              "    <tr>\n",
              "      <th>406032</th>\n",
              "      <td>Açucena</td>\n",
              "      <td>Coronel Fabriciano</td>\n",
              "      <td>IPATINGA</td>\n",
              "      <td>VALE DO ACO</td>\n",
              "      <td>310050</td>\n",
              "      <td>2021-03-08</td>\n",
              "      <td>INDÍGENAS ALDEADOS</td>\n",
              "      <td>PRIMEIRA DOSE</td>\n",
              "      <td>2</td>\n",
              "    </tr>\n",
              "    <tr>\n",
              "      <th>406060</th>\n",
              "      <td>Antônio Dias</td>\n",
              "      <td>Coronel Fabriciano</td>\n",
              "      <td>CORONEL FABRICIANO/TIMÓTEO</td>\n",
              "      <td>VALE DO ACO</td>\n",
              "      <td>310300</td>\n",
              "      <td>2021-03-08</td>\n",
              "      <td>INDÍGENAS ALDEADOS</td>\n",
              "      <td>PRIMEIRA DOSE</td>\n",
              "      <td>0</td>\n",
              "    </tr>\n",
              "    <tr>\n",
              "      <th>406094</th>\n",
              "      <td>Belo Oriente</td>\n",
              "      <td>Coronel Fabriciano</td>\n",
              "      <td>IPATINGA</td>\n",
              "      <td>VALE DO ACO</td>\n",
              "      <td>310630</td>\n",
              "      <td>2021-03-08</td>\n",
              "      <td>INDÍGENAS ALDEADOS</td>\n",
              "      <td>PRIMEIRA DOSE</td>\n",
              "      <td>0</td>\n",
              "    </tr>\n",
              "    <tr>\n",
              "      <th>406110</th>\n",
              "      <td>Bom Jesus do Galho</td>\n",
              "      <td>Coronel Fabriciano</td>\n",
              "      <td>CARATINGA</td>\n",
              "      <td>VALE DO ACO</td>\n",
              "      <td>310780</td>\n",
              "      <td>2021-03-08</td>\n",
              "      <td>INDÍGENAS ALDEADOS</td>\n",
              "      <td>PRIMEIRA DOSE</td>\n",
              "      <td>0</td>\n",
              "    </tr>\n",
              "    <tr>\n",
              "      <th>406122</th>\n",
              "      <td>Braúnas</td>\n",
              "      <td>Coronel Fabriciano</td>\n",
              "      <td>IPATINGA</td>\n",
              "      <td>VALE DO ACO</td>\n",
              "      <td>310880</td>\n",
              "      <td>2021-03-08</td>\n",
              "      <td>INDÍGENAS ALDEADOS</td>\n",
              "      <td>PRIMEIRA DOSE</td>\n",
              "      <td>0</td>\n",
              "    </tr>\n",
              "  </tbody>\n",
              "</table>\n",
              "</div>"
            ],
            "text/plain": [
              "       MUNICIPIO_RESIDENCIA                 URS  ...           Dose Doses Aplicadas\n",
              "406032              Açucena  Coronel Fabriciano  ...  PRIMEIRA DOSE               2\n",
              "406060         Antônio Dias  Coronel Fabriciano  ...  PRIMEIRA DOSE               0\n",
              "406094         Belo Oriente  Coronel Fabriciano  ...  PRIMEIRA DOSE               0\n",
              "406110   Bom Jesus do Galho  Coronel Fabriciano  ...  PRIMEIRA DOSE               0\n",
              "406122              Braúnas  Coronel Fabriciano  ...  PRIMEIRA DOSE               0\n",
              "\n",
              "[5 rows x 9 columns]"
            ]
          },
          "metadata": {
            "tags": []
          },
          "execution_count": 25
        }
      ]
    },
    {
      "cell_type": "code",
      "metadata": {
        "id": "zx7CBC3XyiSG",
        "colab": {
          "base_uri": "https://localhost:8080/",
          "height": 202
        },
        "outputId": "e680a911-1744-46e5-de5e-1c6b16a3149c"
      },
      "source": [
        "df_internados.head()"
      ],
      "execution_count": 26,
      "outputs": [
        {
          "output_type": "execute_result",
          "data": {
            "text/html": [
              "<div>\n",
              "<style scoped>\n",
              "    .dataframe tbody tr th:only-of-type {\n",
              "        vertical-align: middle;\n",
              "    }\n",
              "\n",
              "    .dataframe tbody tr th {\n",
              "        vertical-align: top;\n",
              "    }\n",
              "\n",
              "    .dataframe thead th {\n",
              "        text-align: right;\n",
              "    }\n",
              "</style>\n",
              "<table border=\"1\" class=\"dataframe\">\n",
              "  <thead>\n",
              "    <tr style=\"text-align: right;\">\n",
              "      <th></th>\n",
              "      <th>MUNICIPIO_RESIDENCIA</th>\n",
              "      <th>NUM_INTERNADOS</th>\n",
              "      <th>DATA</th>\n",
              "      <th>CodigoIBGE</th>\n",
              "      <th>URS</th>\n",
              "      <th>Micro</th>\n",
              "      <th>MACRO</th>\n",
              "    </tr>\n",
              "  </thead>\n",
              "  <tbody>\n",
              "    <tr>\n",
              "      <th>298904</th>\n",
              "      <td>ACUCENA</td>\n",
              "      <td>24</td>\n",
              "      <td>2021-03-08</td>\n",
              "      <td>310050.0</td>\n",
              "      <td>CORONEL FABRICIANO</td>\n",
              "      <td>IPATINGA</td>\n",
              "      <td>VALE DO ACO</td>\n",
              "    </tr>\n",
              "    <tr>\n",
              "      <th>298932</th>\n",
              "      <td>ANTONIO DIAS</td>\n",
              "      <td>18</td>\n",
              "      <td>2021-03-08</td>\n",
              "      <td>310300.0</td>\n",
              "      <td>CORONEL FABRICIANO</td>\n",
              "      <td>CORONEL FABRICIANO/TIMOTEO</td>\n",
              "      <td>VALE DO ACO</td>\n",
              "    </tr>\n",
              "    <tr>\n",
              "      <th>298966</th>\n",
              "      <td>BELO ORIENTE</td>\n",
              "      <td>116</td>\n",
              "      <td>2021-03-08</td>\n",
              "      <td>310630.0</td>\n",
              "      <td>CORONEL FABRICIANO</td>\n",
              "      <td>IPATINGA</td>\n",
              "      <td>VALE DO ACO</td>\n",
              "    </tr>\n",
              "    <tr>\n",
              "      <th>298982</th>\n",
              "      <td>BOM JESUS DO GALHO</td>\n",
              "      <td>25</td>\n",
              "      <td>2021-03-08</td>\n",
              "      <td>310780.0</td>\n",
              "      <td>CORONEL FABRICIANO</td>\n",
              "      <td>CARATINGA</td>\n",
              "      <td>VALE DO ACO</td>\n",
              "    </tr>\n",
              "    <tr>\n",
              "      <th>298994</th>\n",
              "      <td>BRAUNAS</td>\n",
              "      <td>10</td>\n",
              "      <td>2021-03-08</td>\n",
              "      <td>310880.0</td>\n",
              "      <td>CORONEL FABRICIANO</td>\n",
              "      <td>IPATINGA</td>\n",
              "      <td>VALE DO ACO</td>\n",
              "    </tr>\n",
              "  </tbody>\n",
              "</table>\n",
              "</div>"
            ],
            "text/plain": [
              "       MUNICIPIO_RESIDENCIA  ...        MACRO\n",
              "298904              ACUCENA  ...  VALE DO ACO\n",
              "298932         ANTONIO DIAS  ...  VALE DO ACO\n",
              "298966         BELO ORIENTE  ...  VALE DO ACO\n",
              "298982   BOM JESUS DO GALHO  ...  VALE DO ACO\n",
              "298994              BRAUNAS  ...  VALE DO ACO\n",
              "\n",
              "[5 rows x 7 columns]"
            ]
          },
          "metadata": {
            "tags": []
          },
          "execution_count": 26
        }
      ]
    },
    {
      "cell_type": "code",
      "metadata": {
        "id": "gNcYc83ns3ac",
        "colab": {
          "base_uri": "https://localhost:8080/"
        },
        "outputId": "761fb473-9632-49a1-de9d-4120c10d940a"
      },
      "source": [
        "df_confirmados.info()"
      ],
      "execution_count": 27,
      "outputs": [
        {
          "output_type": "stream",
          "text": [
            "<class 'pandas.core.frame.DataFrame'>\n",
            "Int64Index: 1015 entries, 212335 to 237085\n",
            "Data columns (total 7 columns):\n",
            " #   Column                Non-Null Count  Dtype         \n",
            "---  ------                --------------  -----         \n",
            " 0   MUNICIPIO_RESIDENCIA  1015 non-null   object        \n",
            " 1   NUM_CASOS             1015 non-null   int64         \n",
            " 2   DATA                  1015 non-null   datetime64[ns]\n",
            " 3   CodigoIBGE            1015 non-null   float64       \n",
            " 4   URS                   1015 non-null   object        \n",
            " 5   Micro                 1015 non-null   object        \n",
            " 6   MACRO                 1015 non-null   object        \n",
            "dtypes: datetime64[ns](1), float64(1), int64(1), object(4)\n",
            "memory usage: 63.4+ KB\n"
          ],
          "name": "stdout"
        }
      ]
    },
    {
      "cell_type": "code",
      "metadata": {
        "id": "xl5445evYMuq"
      },
      "source": [
        ""
      ],
      "execution_count": 27,
      "outputs": []
    },
    {
      "cell_type": "code",
      "metadata": {
        "id": "ByBtV6ZXLX7b",
        "colab": {
          "base_uri": "https://localhost:8080/"
        },
        "outputId": "a91d0cfc-8941-4838-b78f-ddcd33fbdbe4"
      },
      "source": [
        "df_obitos.info()"
      ],
      "execution_count": 28,
      "outputs": [
        {
          "output_type": "stream",
          "text": [
            "<class 'pandas.core.frame.DataFrame'>\n",
            "Int64Index: 1015 entries, 236986 to 261736\n",
            "Data columns (total 7 columns):\n",
            " #   Column                Non-Null Count  Dtype         \n",
            "---  ------                --------------  -----         \n",
            " 0   MUNICIPIO_RESIDENCIA  1015 non-null   object        \n",
            " 1   NUM_OBITOS            1015 non-null   int64         \n",
            " 2   DATA                  1015 non-null   datetime64[ns]\n",
            " 3   CodigoIBGE            1015 non-null   float64       \n",
            " 4   URS                   1015 non-null   object        \n",
            " 5   Micro                 1015 non-null   object        \n",
            " 6   MACRO                 1015 non-null   object        \n",
            "dtypes: datetime64[ns](1), float64(1), int64(1), object(4)\n",
            "memory usage: 63.4+ KB\n"
          ],
          "name": "stdout"
        }
      ]
    },
    {
      "cell_type": "code",
      "metadata": {
        "id": "SKJ2EBHQ9yLY",
        "colab": {
          "base_uri": "https://localhost:8080/"
        },
        "outputId": "4d941763-bf95-4314-f262-806c8704744c"
      },
      "source": [
        "df_vacina.info()"
      ],
      "execution_count": 29,
      "outputs": [
        {
          "output_type": "stream",
          "text": [
            "<class 'pandas.core.frame.DataFrame'>\n",
            "Int64Index: 10850 entries, 406032 to 670446\n",
            "Data columns (total 9 columns):\n",
            " #   Column                Non-Null Count  Dtype         \n",
            "---  ------                --------------  -----         \n",
            " 0   MUNICIPIO_RESIDENCIA  10850 non-null  object        \n",
            " 1   URS                   10850 non-null  object        \n",
            " 2   MICRO                 10850 non-null  object        \n",
            " 3   MACRO                 10850 non-null  object        \n",
            " 4   CodigoIBGE            10850 non-null  int64         \n",
            " 5   DATA                  10850 non-null  datetime64[ns]\n",
            " 6   Grupo                 10850 non-null  object        \n",
            " 7   Dose                  10850 non-null  object        \n",
            " 8   Doses Aplicadas       10850 non-null  int64         \n",
            "dtypes: datetime64[ns](1), int64(2), object(6)\n",
            "memory usage: 847.7+ KB\n"
          ],
          "name": "stdout"
        }
      ]
    },
    {
      "cell_type": "code",
      "metadata": {
        "id": "5Op4N2xe0Vds",
        "colab": {
          "base_uri": "https://localhost:8080/"
        },
        "outputId": "7e33a0e7-5584-4d19-ec06-2a830ffa9afc"
      },
      "source": [
        "df_internados.info()"
      ],
      "execution_count": 30,
      "outputs": [
        {
          "output_type": "stream",
          "text": [
            "<class 'pandas.core.frame.DataFrame'>\n",
            "Int64Index: 1015 entries, 298904 to 323654\n",
            "Data columns (total 7 columns):\n",
            " #   Column                Non-Null Count  Dtype         \n",
            "---  ------                --------------  -----         \n",
            " 0   MUNICIPIO_RESIDENCIA  1015 non-null   object        \n",
            " 1   NUM_INTERNADOS        1015 non-null   int64         \n",
            " 2   DATA                  1015 non-null   datetime64[ns]\n",
            " 3   CodigoIBGE            1015 non-null   float64       \n",
            " 4   URS                   1015 non-null   object        \n",
            " 5   Micro                 1015 non-null   object        \n",
            " 6   MACRO                 1015 non-null   object        \n",
            "dtypes: datetime64[ns](1), float64(1), int64(1), object(4)\n",
            "memory usage: 63.4+ KB\n"
          ],
          "name": "stdout"
        }
      ]
    },
    {
      "cell_type": "code",
      "metadata": {
        "id": "CwDj29hOsRE-",
        "colab": {
          "base_uri": "https://localhost:8080/",
          "height": 294
        },
        "outputId": "86815b73-1955-4726-d07f-ee6814e5dd77"
      },
      "source": [
        "df_confirmados.describe()"
      ],
      "execution_count": 31,
      "outputs": [
        {
          "output_type": "execute_result",
          "data": {
            "text/html": [
              "<div>\n",
              "<style scoped>\n",
              "    .dataframe tbody tr th:only-of-type {\n",
              "        vertical-align: middle;\n",
              "    }\n",
              "\n",
              "    .dataframe tbody tr th {\n",
              "        vertical-align: top;\n",
              "    }\n",
              "\n",
              "    .dataframe thead th {\n",
              "        text-align: right;\n",
              "    }\n",
              "</style>\n",
              "<table border=\"1\" class=\"dataframe\">\n",
              "  <thead>\n",
              "    <tr style=\"text-align: right;\">\n",
              "      <th></th>\n",
              "      <th>NUM_CASOS</th>\n",
              "      <th>CodigoIBGE</th>\n",
              "    </tr>\n",
              "  </thead>\n",
              "  <tbody>\n",
              "    <tr>\n",
              "      <th>count</th>\n",
              "      <td>1015.000000</td>\n",
              "      <td>1015.000000</td>\n",
              "    </tr>\n",
              "    <tr>\n",
              "      <th>mean</th>\n",
              "      <td>14.466995</td>\n",
              "      <td>313719.771429</td>\n",
              "    </tr>\n",
              "    <tr>\n",
              "      <th>std</th>\n",
              "      <td>44.767916</td>\n",
              "      <td>2152.662815</td>\n",
              "    </tr>\n",
              "    <tr>\n",
              "      <th>min</th>\n",
              "      <td>-26.000000</td>\n",
              "      <td>310050.000000</td>\n",
              "    </tr>\n",
              "    <tr>\n",
              "      <th>25%</th>\n",
              "      <td>0.000000</td>\n",
              "      <td>312000.000000</td>\n",
              "    </tr>\n",
              "    <tr>\n",
              "      <th>50%</th>\n",
              "      <td>0.000000</td>\n",
              "      <td>313500.000000</td>\n",
              "    </tr>\n",
              "    <tr>\n",
              "      <th>75%</th>\n",
              "      <td>6.000000</td>\n",
              "      <td>315895.000000</td>\n",
              "    </tr>\n",
              "    <tr>\n",
              "      <th>max</th>\n",
              "      <td>516.000000</td>\n",
              "      <td>317115.000000</td>\n",
              "    </tr>\n",
              "  </tbody>\n",
              "</table>\n",
              "</div>"
            ],
            "text/plain": [
              "         NUM_CASOS     CodigoIBGE\n",
              "count  1015.000000    1015.000000\n",
              "mean     14.466995  313719.771429\n",
              "std      44.767916    2152.662815\n",
              "min     -26.000000  310050.000000\n",
              "25%       0.000000  312000.000000\n",
              "50%       0.000000  313500.000000\n",
              "75%       6.000000  315895.000000\n",
              "max     516.000000  317115.000000"
            ]
          },
          "metadata": {
            "tags": []
          },
          "execution_count": 31
        }
      ]
    },
    {
      "cell_type": "code",
      "metadata": {
        "id": "z4S4AfuaYNQ-"
      },
      "source": [
        ""
      ],
      "execution_count": 31,
      "outputs": []
    },
    {
      "cell_type": "code",
      "metadata": {
        "id": "K-U1l1IELX43",
        "colab": {
          "base_uri": "https://localhost:8080/",
          "height": 294
        },
        "outputId": "2af355db-bd0f-4e3c-b9c1-0f7b1b1a2bfb"
      },
      "source": [
        "df_obitos.describe()"
      ],
      "execution_count": 32,
      "outputs": [
        {
          "output_type": "execute_result",
          "data": {
            "text/html": [
              "<div>\n",
              "<style scoped>\n",
              "    .dataframe tbody tr th:only-of-type {\n",
              "        vertical-align: middle;\n",
              "    }\n",
              "\n",
              "    .dataframe tbody tr th {\n",
              "        vertical-align: top;\n",
              "    }\n",
              "\n",
              "    .dataframe thead th {\n",
              "        text-align: right;\n",
              "    }\n",
              "</style>\n",
              "<table border=\"1\" class=\"dataframe\">\n",
              "  <thead>\n",
              "    <tr style=\"text-align: right;\">\n",
              "      <th></th>\n",
              "      <th>NUM_OBITOS</th>\n",
              "      <th>CodigoIBGE</th>\n",
              "    </tr>\n",
              "  </thead>\n",
              "  <tbody>\n",
              "    <tr>\n",
              "      <th>count</th>\n",
              "      <td>1015.000000</td>\n",
              "      <td>1015.000000</td>\n",
              "    </tr>\n",
              "    <tr>\n",
              "      <th>mean</th>\n",
              "      <td>0.249261</td>\n",
              "      <td>313719.771429</td>\n",
              "    </tr>\n",
              "    <tr>\n",
              "      <th>std</th>\n",
              "      <td>1.123506</td>\n",
              "      <td>2152.662815</td>\n",
              "    </tr>\n",
              "    <tr>\n",
              "      <th>min</th>\n",
              "      <td>-16.000000</td>\n",
              "      <td>310050.000000</td>\n",
              "    </tr>\n",
              "    <tr>\n",
              "      <th>25%</th>\n",
              "      <td>0.000000</td>\n",
              "      <td>312000.000000</td>\n",
              "    </tr>\n",
              "    <tr>\n",
              "      <th>50%</th>\n",
              "      <td>0.000000</td>\n",
              "      <td>313500.000000</td>\n",
              "    </tr>\n",
              "    <tr>\n",
              "      <th>75%</th>\n",
              "      <td>0.000000</td>\n",
              "      <td>315895.000000</td>\n",
              "    </tr>\n",
              "    <tr>\n",
              "      <th>max</th>\n",
              "      <td>16.000000</td>\n",
              "      <td>317115.000000</td>\n",
              "    </tr>\n",
              "  </tbody>\n",
              "</table>\n",
              "</div>"
            ],
            "text/plain": [
              "        NUM_OBITOS     CodigoIBGE\n",
              "count  1015.000000    1015.000000\n",
              "mean      0.249261  313719.771429\n",
              "std       1.123506    2152.662815\n",
              "min     -16.000000  310050.000000\n",
              "25%       0.000000  312000.000000\n",
              "50%       0.000000  313500.000000\n",
              "75%       0.000000  315895.000000\n",
              "max      16.000000  317115.000000"
            ]
          },
          "metadata": {
            "tags": []
          },
          "execution_count": 32
        }
      ]
    },
    {
      "cell_type": "code",
      "metadata": {
        "id": "1dt46YF3-lgB",
        "colab": {
          "base_uri": "https://localhost:8080/",
          "height": 294
        },
        "outputId": "410332f5-ada3-491d-ce72-3cef7cc51386"
      },
      "source": [
        "df_vacina.describe()"
      ],
      "execution_count": 33,
      "outputs": [
        {
          "output_type": "execute_result",
          "data": {
            "text/html": [
              "<div>\n",
              "<style scoped>\n",
              "    .dataframe tbody tr th:only-of-type {\n",
              "        vertical-align: middle;\n",
              "    }\n",
              "\n",
              "    .dataframe tbody tr th {\n",
              "        vertical-align: top;\n",
              "    }\n",
              "\n",
              "    .dataframe thead th {\n",
              "        text-align: right;\n",
              "    }\n",
              "</style>\n",
              "<table border=\"1\" class=\"dataframe\">\n",
              "  <thead>\n",
              "    <tr style=\"text-align: right;\">\n",
              "      <th></th>\n",
              "      <th>CodigoIBGE</th>\n",
              "      <th>Doses Aplicadas</th>\n",
              "    </tr>\n",
              "  </thead>\n",
              "  <tbody>\n",
              "    <tr>\n",
              "      <th>count</th>\n",
              "      <td>10850.000000</td>\n",
              "      <td>10850.000000</td>\n",
              "    </tr>\n",
              "    <tr>\n",
              "      <th>mean</th>\n",
              "      <td>313719.771429</td>\n",
              "      <td>5.515392</td>\n",
              "    </tr>\n",
              "    <tr>\n",
              "      <th>std</th>\n",
              "      <td>2151.701287</td>\n",
              "      <td>59.584093</td>\n",
              "    </tr>\n",
              "    <tr>\n",
              "      <th>min</th>\n",
              "      <td>310050.000000</td>\n",
              "      <td>-589.000000</td>\n",
              "    </tr>\n",
              "    <tr>\n",
              "      <th>25%</th>\n",
              "      <td>312000.000000</td>\n",
              "      <td>0.000000</td>\n",
              "    </tr>\n",
              "    <tr>\n",
              "      <th>50%</th>\n",
              "      <td>313500.000000</td>\n",
              "      <td>0.000000</td>\n",
              "    </tr>\n",
              "    <tr>\n",
              "      <th>75%</th>\n",
              "      <td>315895.000000</td>\n",
              "      <td>0.000000</td>\n",
              "    </tr>\n",
              "    <tr>\n",
              "      <th>max</th>\n",
              "      <td>317115.000000</td>\n",
              "      <td>2463.000000</td>\n",
              "    </tr>\n",
              "  </tbody>\n",
              "</table>\n",
              "</div>"
            ],
            "text/plain": [
              "          CodigoIBGE  Doses Aplicadas\n",
              "count   10850.000000     10850.000000\n",
              "mean   313719.771429         5.515392\n",
              "std      2151.701287        59.584093\n",
              "min    310050.000000      -589.000000\n",
              "25%    312000.000000         0.000000\n",
              "50%    313500.000000         0.000000\n",
              "75%    315895.000000         0.000000\n",
              "max    317115.000000      2463.000000"
            ]
          },
          "metadata": {
            "tags": []
          },
          "execution_count": 33
        }
      ]
    },
    {
      "cell_type": "code",
      "metadata": {
        "id": "8M1cVv_q0ZNi",
        "colab": {
          "base_uri": "https://localhost:8080/",
          "height": 294
        },
        "outputId": "e675f401-386e-4df6-f891-e8d3c9ee8a1a"
      },
      "source": [
        "df_internados.describe()"
      ],
      "execution_count": 34,
      "outputs": [
        {
          "output_type": "execute_result",
          "data": {
            "text/html": [
              "<div>\n",
              "<style scoped>\n",
              "    .dataframe tbody tr th:only-of-type {\n",
              "        vertical-align: middle;\n",
              "    }\n",
              "\n",
              "    .dataframe tbody tr th {\n",
              "        vertical-align: top;\n",
              "    }\n",
              "\n",
              "    .dataframe thead th {\n",
              "        text-align: right;\n",
              "    }\n",
              "</style>\n",
              "<table border=\"1\" class=\"dataframe\">\n",
              "  <thead>\n",
              "    <tr style=\"text-align: right;\">\n",
              "      <th></th>\n",
              "      <th>NUM_INTERNADOS</th>\n",
              "      <th>CodigoIBGE</th>\n",
              "    </tr>\n",
              "  </thead>\n",
              "  <tbody>\n",
              "    <tr>\n",
              "      <th>count</th>\n",
              "      <td>1015.000000</td>\n",
              "      <td>1015.000000</td>\n",
              "    </tr>\n",
              "    <tr>\n",
              "      <th>mean</th>\n",
              "      <td>133.356650</td>\n",
              "      <td>313719.771429</td>\n",
              "    </tr>\n",
              "    <tr>\n",
              "      <th>std</th>\n",
              "      <td>293.174812</td>\n",
              "      <td>2152.662815</td>\n",
              "    </tr>\n",
              "    <tr>\n",
              "      <th>min</th>\n",
              "      <td>1.000000</td>\n",
              "      <td>310050.000000</td>\n",
              "    </tr>\n",
              "    <tr>\n",
              "      <th>25%</th>\n",
              "      <td>18.000000</td>\n",
              "      <td>312000.000000</td>\n",
              "    </tr>\n",
              "    <tr>\n",
              "      <th>50%</th>\n",
              "      <td>33.000000</td>\n",
              "      <td>313500.000000</td>\n",
              "    </tr>\n",
              "    <tr>\n",
              "      <th>75%</th>\n",
              "      <td>64.000000</td>\n",
              "      <td>315895.000000</td>\n",
              "    </tr>\n",
              "    <tr>\n",
              "      <th>max</th>\n",
              "      <td>1446.000000</td>\n",
              "      <td>317115.000000</td>\n",
              "    </tr>\n",
              "  </tbody>\n",
              "</table>\n",
              "</div>"
            ],
            "text/plain": [
              "       NUM_INTERNADOS     CodigoIBGE\n",
              "count     1015.000000    1015.000000\n",
              "mean       133.356650  313719.771429\n",
              "std        293.174812    2152.662815\n",
              "min          1.000000  310050.000000\n",
              "25%         18.000000  312000.000000\n",
              "50%         33.000000  313500.000000\n",
              "75%         64.000000  315895.000000\n",
              "max       1446.000000  317115.000000"
            ]
          },
          "metadata": {
            "tags": []
          },
          "execution_count": 34
        }
      ]
    },
    {
      "cell_type": "code",
      "metadata": {
        "id": "YN_4W8H3sRB9",
        "colab": {
          "base_uri": "https://localhost:8080/"
        },
        "outputId": "d54b2493-c8f5-48da-f49c-f17f235698e7"
      },
      "source": [
        "df_confirmados.duplicated().sum()"
      ],
      "execution_count": 35,
      "outputs": [
        {
          "output_type": "execute_result",
          "data": {
            "text/plain": [
              "0"
            ]
          },
          "metadata": {
            "tags": []
          },
          "execution_count": 35
        }
      ]
    },
    {
      "cell_type": "code",
      "metadata": {
        "id": "uXHa5jVTYPmw"
      },
      "source": [
        ""
      ],
      "execution_count": 35,
      "outputs": []
    },
    {
      "cell_type": "code",
      "metadata": {
        "id": "jThBf5c7LX1P",
        "colab": {
          "base_uri": "https://localhost:8080/"
        },
        "outputId": "640c9a79-a48e-4d4e-8a7e-5a2705df1082"
      },
      "source": [
        "df_obitos.duplicated().sum()"
      ],
      "execution_count": 36,
      "outputs": [
        {
          "output_type": "execute_result",
          "data": {
            "text/plain": [
              "0"
            ]
          },
          "metadata": {
            "tags": []
          },
          "execution_count": 36
        }
      ]
    },
    {
      "cell_type": "code",
      "metadata": {
        "id": "NSCL1xai-n1J",
        "colab": {
          "base_uri": "https://localhost:8080/"
        },
        "outputId": "7531cdf4-b787-42f7-d3b7-c1cc9947bc03"
      },
      "source": [
        "df_vacina.duplicated().sum()"
      ],
      "execution_count": 37,
      "outputs": [
        {
          "output_type": "execute_result",
          "data": {
            "text/plain": [
              "0"
            ]
          },
          "metadata": {
            "tags": []
          },
          "execution_count": 37
        }
      ]
    },
    {
      "cell_type": "code",
      "metadata": {
        "id": "8Szq2r7A0fb5",
        "colab": {
          "base_uri": "https://localhost:8080/"
        },
        "outputId": "13d771f7-4706-402b-ffb9-c1013f2a5fdd"
      },
      "source": [
        "df_internados.duplicated().sum()\n"
      ],
      "execution_count": 38,
      "outputs": [
        {
          "output_type": "execute_result",
          "data": {
            "text/plain": [
              "0"
            ]
          },
          "metadata": {
            "tags": []
          },
          "execution_count": 38
        }
      ]
    },
    {
      "cell_type": "code",
      "metadata": {
        "id": "7TBr4h7HsQ_J",
        "colab": {
          "base_uri": "https://localhost:8080/"
        },
        "outputId": "fc6733e3-439b-4fe3-e596-73d947ba239e"
      },
      "source": [
        "df_confirmados.isnull().sum()"
      ],
      "execution_count": 39,
      "outputs": [
        {
          "output_type": "execute_result",
          "data": {
            "text/plain": [
              "MUNICIPIO_RESIDENCIA    0\n",
              "NUM_CASOS               0\n",
              "DATA                    0\n",
              "CodigoIBGE              0\n",
              "URS                     0\n",
              "Micro                   0\n",
              "MACRO                   0\n",
              "dtype: int64"
            ]
          },
          "metadata": {
            "tags": []
          },
          "execution_count": 39
        }
      ]
    },
    {
      "cell_type": "code",
      "metadata": {
        "id": "nxcIdJVOYQYl"
      },
      "source": [
        ""
      ],
      "execution_count": 39,
      "outputs": []
    },
    {
      "cell_type": "code",
      "metadata": {
        "id": "48tLc_YkLXvm",
        "colab": {
          "base_uri": "https://localhost:8080/"
        },
        "outputId": "41753351-00b3-4c68-ccfa-8bd4ab0d0ccb"
      },
      "source": [
        "df_obitos.isnull().sum()"
      ],
      "execution_count": 40,
      "outputs": [
        {
          "output_type": "execute_result",
          "data": {
            "text/plain": [
              "MUNICIPIO_RESIDENCIA    0\n",
              "NUM_OBITOS              0\n",
              "DATA                    0\n",
              "CodigoIBGE              0\n",
              "URS                     0\n",
              "Micro                   0\n",
              "MACRO                   0\n",
              "dtype: int64"
            ]
          },
          "metadata": {
            "tags": []
          },
          "execution_count": 40
        }
      ]
    },
    {
      "cell_type": "code",
      "metadata": {
        "id": "KxBiItka-so0",
        "colab": {
          "base_uri": "https://localhost:8080/"
        },
        "outputId": "a20e04da-76c9-4670-ae18-a34a5e739a5d"
      },
      "source": [
        "df_vacina.isnull().sum()"
      ],
      "execution_count": 41,
      "outputs": [
        {
          "output_type": "execute_result",
          "data": {
            "text/plain": [
              "MUNICIPIO_RESIDENCIA    0\n",
              "URS                     0\n",
              "MICRO                   0\n",
              "MACRO                   0\n",
              "CodigoIBGE              0\n",
              "DATA                    0\n",
              "Grupo                   0\n",
              "Dose                    0\n",
              "Doses Aplicadas         0\n",
              "dtype: int64"
            ]
          },
          "metadata": {
            "tags": []
          },
          "execution_count": 41
        }
      ]
    },
    {
      "cell_type": "code",
      "metadata": {
        "id": "edD0gExW0ngk",
        "colab": {
          "base_uri": "https://localhost:8080/"
        },
        "outputId": "6b88d43f-d244-4fb9-d617-cefb8747660d"
      },
      "source": [
        "df_internados.isnull().sum()"
      ],
      "execution_count": 42,
      "outputs": [
        {
          "output_type": "execute_result",
          "data": {
            "text/plain": [
              "MUNICIPIO_RESIDENCIA    0\n",
              "NUM_INTERNADOS          0\n",
              "DATA                    0\n",
              "CodigoIBGE              0\n",
              "URS                     0\n",
              "Micro                   0\n",
              "MACRO                   0\n",
              "dtype: int64"
            ]
          },
          "metadata": {
            "tags": []
          },
          "execution_count": 42
        }
      ]
    },
    {
      "cell_type": "code",
      "metadata": {
        "id": "oFTdxxbZsQ9H",
        "colab": {
          "base_uri": "https://localhost:8080/"
        },
        "outputId": "536ac446-14eb-4c9c-bbaf-1684d0da29df"
      },
      "source": [
        "set(df_confirmados['Micro'])"
      ],
      "execution_count": 43,
      "outputs": [
        {
          "output_type": "execute_result",
          "data": {
            "text/plain": [
              "{'CARATINGA', 'CORONEL FABRICIANO/TIMOTEO', 'IPATINGA'}"
            ]
          },
          "metadata": {
            "tags": []
          },
          "execution_count": 43
        }
      ]
    },
    {
      "cell_type": "code",
      "metadata": {
        "id": "GPHfV0g6YRB7"
      },
      "source": [
        ""
      ],
      "execution_count": 43,
      "outputs": []
    },
    {
      "cell_type": "code",
      "metadata": {
        "id": "-McEjypRLXr9",
        "colab": {
          "base_uri": "https://localhost:8080/"
        },
        "outputId": "72985b0b-d1ec-4b52-94cb-be56189f2d46"
      },
      "source": [
        "set(df_obitos['Micro'])"
      ],
      "execution_count": 44,
      "outputs": [
        {
          "output_type": "execute_result",
          "data": {
            "text/plain": [
              "{'CARATINGA', 'CORONEL FABRICIANO/TIMOTEO', 'IPATINGA'}"
            ]
          },
          "metadata": {
            "tags": []
          },
          "execution_count": 44
        }
      ]
    },
    {
      "cell_type": "code",
      "metadata": {
        "id": "xQbAWkxG9cwE",
        "colab": {
          "base_uri": "https://localhost:8080/"
        },
        "outputId": "a3951499-2050-47ab-d0f3-4ba94a03b911"
      },
      "source": [
        "set(df_vacina['MICRO'])"
      ],
      "execution_count": 45,
      "outputs": [
        {
          "output_type": "execute_result",
          "data": {
            "text/plain": [
              "{'CARATINGA', 'CORONEL FABRICIANO/TIMÓTEO', 'IPATINGA'}"
            ]
          },
          "metadata": {
            "tags": []
          },
          "execution_count": 45
        }
      ]
    },
    {
      "cell_type": "code",
      "metadata": {
        "id": "339zkZ0z0q1F",
        "colab": {
          "base_uri": "https://localhost:8080/"
        },
        "outputId": "7ff1462c-f36a-4011-edfd-c6b14e673f52"
      },
      "source": [
        "set(df_internados['Micro'])"
      ],
      "execution_count": 46,
      "outputs": [
        {
          "output_type": "execute_result",
          "data": {
            "text/plain": [
              "{'CARATINGA', 'CORONEL FABRICIANO/TIMOTEO', 'IPATINGA'}"
            ]
          },
          "metadata": {
            "tags": []
          },
          "execution_count": 46
        }
      ]
    },
    {
      "cell_type": "markdown",
      "metadata": {
        "id": "jpZ5ZTC-Cucj"
      },
      "source": [
        "# Plotando Gráficos."
      ]
    },
    {
      "cell_type": "code",
      "metadata": {
        "id": "PNPPdhzCC5Hh",
        "colab": {
          "base_uri": "https://localhost:8080/"
        },
        "outputId": "98f93e1e-1bb0-4425-a512-b3f4205103ca"
      },
      "source": [
        "sum_conf = df_confirmados.resample(\"D\", on='DATA')['NUM_CASOS'].sum()\n",
        "sum_conf"
      ],
      "execution_count": 47,
      "outputs": [
        {
          "output_type": "execute_result",
          "data": {
            "text/plain": [
              "DATA\n",
              "2021-03-08     137\n",
              "2021-03-09     164\n",
              "2021-03-10     436\n",
              "2021-03-11     327\n",
              "2021-03-12     837\n",
              "2021-03-13     656\n",
              "2021-03-14     241\n",
              "2021-03-15     221\n",
              "2021-03-16     383\n",
              "2021-03-17     516\n",
              "2021-03-18     542\n",
              "2021-03-19     780\n",
              "2021-03-20     610\n",
              "2021-03-21     161\n",
              "2021-03-22     158\n",
              "2021-03-23     447\n",
              "2021-03-24     513\n",
              "2021-03-25     829\n",
              "2021-03-26    1142\n",
              "2021-03-27     781\n",
              "2021-03-28     719\n",
              "2021-03-29     300\n",
              "2021-03-30     448\n",
              "2021-03-31     841\n",
              "2021-04-01     825\n",
              "2021-04-02     614\n",
              "2021-04-03     606\n",
              "2021-04-04     245\n",
              "2021-04-05     205\n",
              "Freq: D, Name: NUM_CASOS, dtype: int64"
            ]
          },
          "metadata": {
            "tags": []
          },
          "execution_count": 47
        }
      ]
    },
    {
      "cell_type": "code",
      "metadata": {
        "id": "Y6DmC4pWDIgm",
        "colab": {
          "base_uri": "https://localhost:8080/"
        },
        "outputId": "dc6d555c-fa7c-4b52-8bcb-5b0c02a66c23"
      },
      "source": [
        "sum_ob = df_obitos.resample(\"D\", on='DATA')['NUM_OBITOS'].sum()\n",
        "sum_ob"
      ],
      "execution_count": 48,
      "outputs": [
        {
          "output_type": "execute_result",
          "data": {
            "text/plain": [
              "DATA\n",
              "2021-03-08     0\n",
              "2021-03-09     2\n",
              "2021-03-10    15\n",
              "2021-03-11     3\n",
              "2021-03-12     6\n",
              "2021-03-13     8\n",
              "2021-03-14     4\n",
              "2021-03-15     0\n",
              "2021-03-16     1\n",
              "2021-03-17     9\n",
              "2021-03-18     9\n",
              "2021-03-19     4\n",
              "2021-03-20    16\n",
              "2021-03-21     6\n",
              "2021-03-22     0\n",
              "2021-03-23     4\n",
              "2021-03-24    12\n",
              "2021-03-25     2\n",
              "2021-03-26    12\n",
              "2021-03-27    18\n",
              "2021-03-28    22\n",
              "2021-03-29     6\n",
              "2021-03-30     3\n",
              "2021-03-31    20\n",
              "2021-04-01    28\n",
              "2021-04-02    39\n",
              "2021-04-03    20\n",
              "2021-04-04     0\n",
              "2021-04-05   -16\n",
              "Freq: D, Name: NUM_OBITOS, dtype: int64"
            ]
          },
          "metadata": {
            "tags": []
          },
          "execution_count": 48
        }
      ]
    },
    {
      "cell_type": "code",
      "metadata": {
        "id": "Bfm-M4lQDWdD",
        "colab": {
          "base_uri": "https://localhost:8080/"
        },
        "outputId": "8600b667-e2ff-4d61-cef6-85ac40357dad"
      },
      "source": [
        "sum_vac = df_vacina.resample(\"D\", on='DATA')['Doses Aplicadas'].sum()\n",
        "sum_vac"
      ],
      "execution_count": 49,
      "outputs": [
        {
          "output_type": "execute_result",
          "data": {
            "text/plain": [
              "DATA\n",
              "2021-03-08     1512\n",
              "2021-03-09     2781\n",
              "2021-03-10     1183\n",
              "2021-03-11     1222\n",
              "2021-03-12     1731\n",
              "2021-03-13        0\n",
              "2021-03-14        0\n",
              "2021-03-15     3707\n",
              "2021-03-16     1267\n",
              "2021-03-17     3712\n",
              "2021-03-18     1261\n",
              "2021-03-19     1233\n",
              "2021-03-20        0\n",
              "2021-03-21        0\n",
              "2021-03-22     2860\n",
              "2021-03-23     2754\n",
              "2021-03-24     3514\n",
              "2021-03-25     1740\n",
              "2021-03-26     3116\n",
              "2021-03-27        0\n",
              "2021-03-28        0\n",
              "2021-03-29     1435\n",
              "2021-03-30     1526\n",
              "2021-03-31    17613\n",
              "2021-04-01     5675\n",
              "Freq: D, Name: Doses Aplicadas, dtype: int64"
            ]
          },
          "metadata": {
            "tags": []
          },
          "execution_count": 49
        }
      ]
    },
    {
      "cell_type": "code",
      "metadata": {
        "id": "Qp_agGGF1MiR",
        "colab": {
          "base_uri": "https://localhost:8080/"
        },
        "outputId": "f7e66b3f-66fb-4229-abb6-c3a707ca58ed"
      },
      "source": [
        "sum_int = df_internados.resample(\"D\", on='DATA')['NUM_INTERNADOS'].sum()\n",
        "sum_int"
      ],
      "execution_count": 50,
      "outputs": [
        {
          "output_type": "execute_result",
          "data": {
            "text/plain": [
              "DATA\n",
              "2021-03-08    4086\n",
              "2021-03-09    4104\n",
              "2021-03-10    4168\n",
              "2021-03-11    4196\n",
              "2021-03-12    4229\n",
              "2021-03-13    4420\n",
              "2021-03-14    4430\n",
              "2021-03-15    4436\n",
              "2021-03-16    4468\n",
              "2021-03-17    4529\n",
              "2021-03-18    4557\n",
              "2021-03-19    4611\n",
              "2021-03-20    4667\n",
              "2021-03-21    4694\n",
              "2021-03-22    4719\n",
              "2021-03-23    4743\n",
              "2021-03-24    4782\n",
              "2021-03-25    4802\n",
              "2021-03-26    4842\n",
              "2021-03-27    4901\n",
              "2021-03-28    4925\n",
              "2021-03-29    4931\n",
              "2021-03-30    4938\n",
              "2021-03-31    4969\n",
              "2021-04-01    5029\n",
              "2021-04-02    5022\n",
              "2021-04-03    5039\n",
              "2021-04-04    5050\n",
              "2021-04-05    5070\n",
              "Freq: D, Name: NUM_INTERNADOS, dtype: int64"
            ]
          },
          "metadata": {
            "tags": []
          },
          "execution_count": 50
        }
      ]
    },
    {
      "cell_type": "code",
      "metadata": {
        "id": "4lVukxb4iGCF",
        "colab": {
          "base_uri": "https://localhost:8080/",
          "height": 297
        },
        "outputId": "d63c0546-a0b8-4fc8-983b-6488cba5daba"
      },
      "source": [
        "plt.title('Novos casos confirmados - Região Vale do Aço')\n",
        "ax = sum_conf.plot(kind='line')\n",
        "\n",
        "plt.xticks(sum_conf.index.strftime('%Y-%m-%d'), sum_conf.index.strftime('%Y-%m-%d'), rotation ='vertical')\n",
        "\n",
        "ax.set_xlabel('Datas')\n",
        "ax.set_ylabel('Quantidade')\n",
        "\n",
        "\n",
        "plt.annotate('Dados oficias do Governo de MG. Últimos 30 dias disponíveis.', xy=(0.03, 0.95), xycoords='axes fraction')\n",
        "plt.annotate('Críticas e sugestões:', xy=(0.03, 0.90), xycoords='axes fraction')\n",
        "plt.annotate('paolo.enrico@gmail.com', xy=(0.03, 0.85), xycoords='axes fraction')\n",
        "plt.style.use('seaborn-white')\n",
        "\n",
        "plt.tight_layout()\n",
        "#plt.savefig('/content/drive/MyDrive/CienciaDados/Covid/covid-confirmados.png')\n",
        "plt.show()\n"
      ],
      "execution_count": 51,
      "outputs": [
        {
          "output_type": "display_data",
          "data": {
            "image/png": "[encoded data removed]",
            "text/plain": [
              "<Figure size 432x288 with 1 Axes>"
            ]
          },
          "metadata": {
            "tags": [],
            "needs_background": "light"
          }
        }
      ]
    },
    {
      "cell_type": "code",
      "metadata": {
        "id": "ZM3zKCkeiGCH",
        "colab": {
          "base_uri": "https://localhost:8080/",
          "height": 297
        },
        "outputId": "3cdcd8ea-b344-4d7f-aef2-b9a4d03f7178"
      },
      "source": [
        "\n",
        "plt.title('Quantidade de óbitos por COVID confirmados - Região Vale do Aço')\n",
        "\n",
        "ax = sum_ob.plot(kind='line')\n",
        "\n",
        "plt.xticks(sum_ob.index.strftime('%Y-%m-%d'), sum_ob.index.strftime('%Y-%m-%d'), rotation ='vertical')\n",
        "\n",
        "ax.set_xlabel('Datas')\n",
        "ax.set_ylabel('Quantidade')\n",
        "\n",
        "plt.annotate('Dados oficias do Governo de MG. Últimos 30 dias disponíveis.', xy=(0.03, 0.95), xycoords='axes fraction')\n",
        "plt.annotate('Críticas e sugestões:', xy=(0.03, 0.90), xycoords='axes fraction')\n",
        "plt.annotate('paolo.enrico@gmail.com', xy=(0.03, 0.85), xycoords='axes fraction')\n",
        "plt.style.use('seaborn-white')\n",
        "\n",
        "plt.tight_layout()\n",
        "#plt.savefig('/content/drive/MyDrive/CienciaDados/Covid/covid-obitos.png')\n",
        "plt.show()"
      ],
      "execution_count": 52,
      "outputs": [
        {
          "output_type": "display_data",
          "data": {
            "image/png": "[encoded data removed]",
            "text/plain": [
              "<Figure size 432x288 with 1 Axes>"
            ]
          },
          "metadata": {
            "tags": []
          }
        }
      ]
    },
    {
      "cell_type": "code",
      "metadata": {
        "id": "g2b9OmF2iGCI",
        "colab": {
          "base_uri": "https://localhost:8080/",
          "height": 297
        },
        "outputId": "af2f6697-c05c-417d-ddfe-ce12ffc711e1"
      },
      "source": [
        "plt.title('Vacinas aplicadas, primeira e segunda dose - Região Vale do Aço')\n",
        "ax = sum_vac.plot(kind='line')\n",
        "\n",
        "plt.xticks(sum_vac.index.strftime('%Y-%m-%d'), sum_vac.index.strftime('%Y-%m-%d'), rotation ='vertical')\n",
        "\n",
        "ax.set_xlabel('Datas')\n",
        "ax.set_ylabel('Quantidade')\n",
        "\n",
        "\n",
        "plt.annotate('Dados oficias do Governo de MG. Últimos 30 dias disponíveis.', xy=(0.03, 0.95), xycoords='axes fraction')\n",
        "plt.annotate('Críticas e sugestões:', xy=(0.03, 0.90), xycoords='axes fraction')\n",
        "plt.annotate('paolo.enrico@gmail.com', xy=(0.03, 0.85), xycoords='axes fraction')\n",
        "plt.style.use('seaborn-white')\n",
        "\n",
        "plt.tight_layout()\n",
        "plt.savefig('/content/drive/MyDrive/CienciaDados/Covid/covid-vacinas.png')\n",
        "plt.show()\n"
      ],
      "execution_count": 53,
      "outputs": [
        {
          "output_type": "display_data",
          "data": {
            "image/png": "[encoded data removed]",
            "text/plain": [
              "<Figure size 432x288 with 1 Axes>"
            ]
          },
          "metadata": {
            "tags": []
          }
        }
      ]
    },
    {
      "cell_type": "code",
      "metadata": {
        "id": "tZyXHIBfthPT",
        "colab": {
          "base_uri": "https://localhost:8080/",
          "height": 297
        },
        "outputId": "ab599af5-e5fa-48a6-a325-5ada26884887"
      },
      "source": [
        "plt.title('Número de Internados - Região Vale do Aço')\n",
        "ax = sum_int.plot(kind='line')\n",
        "\n",
        "plt.xticks(sum_int.index.strftime('%Y-%m-%d'), sum_int.index.strftime('%Y-%m-%d'), rotation ='vertical')\n",
        "\n",
        "ax.set_xlabel('Datas')\n",
        "ax.set_ylabel('Quantidade')\n",
        "\n",
        "\n",
        "plt.annotate('Dados oficias do Governo de MG. Últimos 30 dias disponíveis.', xy=(0.03, 0.95), xycoords='axes fraction')\n",
        "plt.annotate('Críticas e sugestões:', xy=(0.03, 0.90), xycoords='axes fraction')\n",
        "plt.annotate('paolo.enrico@gmail.com', xy=(0.03, 0.85), xycoords='axes fraction')\n",
        "plt.style.use('seaborn-white')\n",
        "\n",
        "plt.tight_layout()\n",
        "#plt.savefig('/content/drive/MyDrive/CienciaDados/Covid/covid-internados.png')\n",
        "plt.show()"
      ],
      "execution_count": 54,
      "outputs": [
        {
          "output_type": "display_data",
          "data": {
            "image/png": "[encoded data removed]",
            "text/plain": [
              "<Figure size 432x288 with 1 Axes>"
            ]
          },
          "metadata": {
            "tags": []
          }
        }
      ]
    },
    {
      "cell_type": "code",
      "metadata": {
        "id": "PhMvU6OxsDjK",
        "colab": {
          "base_uri": "https://localhost:8080/",
          "height": 297
        },
        "outputId": "3dda7af9-232a-445c-c502-5e876a7711b8"
      },
      "source": [
        "# Esse ficou do jeito que eu quero\n",
        "\n",
        "import matplotlib.dates as mdates\n",
        "ax = sum_int.plot(kind='line')\n",
        "myFmt = mdates.DateFormatter('%b-%d')\n",
        "ax.xaxis.set_major_formatter(myFmt)\n",
        "plt.xticks(rotation ='vertical')\n",
        "\n",
        "\n",
        "ax.set_xlabel('Datas')\n",
        "ax.set_ylabel('Quantidade')\n",
        "\n",
        "plt.title('Número de Internados - Região Vale do Aço')\n",
        "plt.annotate('Dados oficias do Governo de MG. Últimos 30 dias disponíveis.', xy=(0.03, 0.95), xycoords='axes fraction')\n",
        "plt.annotate('Críticas e sugestões:', xy=(0.03, 0.90), xycoords='axes fraction')\n",
        "plt.annotate('paolo.enrico@gmail.com', xy=(0.03, 0.85), xycoords='axes fraction')\n",
        "plt.style.use('seaborn-white')\n",
        "\n",
        "plt.tight_layout()\n",
        "#plt.savefig('/content/drive/MyDrive/CienciaDados/Covid/covid-internados.png')\n",
        "plt.show()"
      ],
      "execution_count": 55,
      "outputs": [
        {
          "output_type": "display_data",
          "data": {
            "image/png": "[encoded data removed]",
            "text/plain": [
              "<Figure size 432x288 with 1 Axes>"
            ]
          },
          "metadata": {
            "tags": []
          }
        }
      ]
    },
    {
      "cell_type": "code",
      "metadata": {
        "id": "Y7V5ZSRdB1yN",
        "colab": {
          "base_uri": "https://localhost:8080/",
          "height": 620
        },
        "outputId": "c860d49b-ec85-4aee-9fa3-8f4b24f291b4"
      },
      "source": [
        "# sem índice do mês\n",
        "\n",
        "plt.rcParams[\"figure.figsize\"] = (20,10)\n",
        "\n",
        "\n",
        "\n",
        "fig, axs = plt.subplots(2, 2)\n",
        "axs[0, 0].plot(sum_conf.index.strftime('%d'), sum_conf )\n",
        "axs[0, 0].set_title('Casos Confirmados')\n",
        "axs[0, 1].plot(sum_vac.index.strftime('%d'), sum_vac, 'tab:green')\n",
        "axs[0, 1].set_title('Vacinas aplicadas')\n",
        "axs[1, 0].plot(sum_int.index.strftime('%d'), sum_int, 'tab:orange')\n",
        "axs[1, 0].set_title('Internações')\n",
        "axs[1, 1].plot(sum_ob.index.strftime('%d'), sum_ob, 'tab:red')\n",
        "axs[1, 1].set_title('Óbitos')\n",
        "\n",
        "# plt.savefig('/content/drive/MyDrive/CienciaDados/Covid/covid-teste.png')"
      ],
      "execution_count": 56,
      "outputs": [
        {
          "output_type": "execute_result",
          "data": {
            "text/plain": [
              "Text(0.5, 1.0, 'Óbitos')"
            ]
          },
          "metadata": {
            "tags": []
          },
          "execution_count": 56
        },
        {
          "output_type": "display_data",
          "data": {
            "image/png": "[encoded data removed]",
            "text/plain": [
              "<Figure size 1440x720 with 4 Axes>"
            ]
          },
          "metadata": {
            "tags": []
          }
        }
      ]
    },
    {
      "cell_type": "code",
      "metadata": {
        "id": "Z1542uscw2Td"
      },
      "source": [
        ""
      ],
      "execution_count": 56,
      "outputs": []
    },
    {
      "cell_type": "code",
      "metadata": {
        "id": "feGwLqPCKESQ",
        "colab": {
          "base_uri": "https://localhost:8080/",
          "height": 729
        },
        "outputId": "eb9313f5-7ffe-4ae6-ea09-e5f95e0b566b"
      },
      "source": [
        "#com índice do mês\n",
        "\n",
        "import matplotlib.dates as mdates\n",
        "\n",
        "ax1 = plt.subplot(221)\n",
        "\n",
        "plt.annotate('Dados oficias do Governo de MG. Macro região Vale do Aço, últimos 30 dias disponíveis.', xy=(0.03, 0.95), xycoords='axes fraction')\n",
        "plt.annotate('Críticas e sugestões:', xy=(0.03, 0.90), xycoords='axes fraction')\n",
        "plt.annotate('paolo.enrico@gmail.com', xy=(0.03, 0.85), xycoords='axes fraction')\n",
        "\n",
        "plt.title('Vacinas aplicadas (primeira e segunda dose)')\n",
        "ax = sum_vac.plot(kind='line', color='green')\n",
        "myFmt = mdates.DateFormatter('%b-%d')\n",
        "ax.xaxis.set_major_formatter(myFmt)\n",
        "plt.xticks(rotation ='vertical')\n",
        "\n",
        "\n",
        "ax2 = plt.subplot(222)\n",
        "plt.title('Casos Confirmados')\n",
        "ax = sum_conf.plot(kind='line', color='blue')\n",
        "myFmt = mdates.DateFormatter('%b-%d')\n",
        "ax.xaxis.set_major_formatter(myFmt)\n",
        "plt.xticks(rotation ='vertical')\n",
        "\n",
        "\n",
        "ax3 = plt.subplot(223)\n",
        "plt.title('Internados')\n",
        "ax = sum_int.plot(kind='line', color='orange')\n",
        "myFmt = mdates.DateFormatter('%b-%d')\n",
        "ax.xaxis.set_major_formatter(myFmt)\n",
        "plt.xticks(rotation ='vertical')\n",
        "\n",
        "\n",
        "ax4 = plt.subplot(224)\n",
        "plt.title('Óbitos')\n",
        "ax = sum_ob.plot(kind='line', color='red')\n",
        "myFmt = mdates.DateFormatter('%b-%d')\n",
        "ax.xaxis.set_major_formatter(myFmt)\n",
        "plt.xticks(rotation ='vertical')\n",
        "plt.tight_layout()\n",
        "\n",
        "plt.savefig('/content/drive/MyDrive/CienciaDados/Covid/covid.png')\n",
        "plt.show()"
      ],
      "execution_count": 57,
      "outputs": [
        {
          "output_type": "display_data",
          "data": {
            "image/png": "[encoded data removed]",
            "text/plain": [
              "<Figure size 1440x720 with 4 Axes>"
            ]
          },
          "metadata": {
            "tags": []
          }
        }
      ]
    },
    {
      "cell_type": "code",
      "metadata": {
        "id": "2h5XFLjpKEL9"
      },
      "source": [
        ""
      ],
      "execution_count": 57,
      "outputs": []
    }
  ]
}